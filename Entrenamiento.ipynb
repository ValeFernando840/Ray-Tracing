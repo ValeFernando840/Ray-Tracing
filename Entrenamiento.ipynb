{
 "cells": [
  {
   "cell_type": "code",
   "execution_count": 9,
   "metadata": {},
   "outputs": [],
   "source": [
    "import pandas as pd \n",
    "from sklearn.model_selection import train_test_split\n",
    "#Cargamos el Dataset\n",
    "file_path = \"dataset/dataset.csv\"\n",
    "df = pd.read_csv(file_path)\n"
   ]
  },
  {
   "cell_type": "code",
   "execution_count": 8,
   "metadata": {},
   "outputs": [],
   "source": [
    "#Listamos columnas para X y con drop separamos como un filter\n",
    "X_columns = [\n",
    "    'latitude_pos_tx', 'longitude_pos_tx', 'elevation_pos_tx', 'fc', 'elevation', \n",
    "    'azimuth', 'year', 'mmdd', 'UTI', 'hour', 'delay', 'terrestrial_range', \n",
    "    'slant_range', 'final_latitude', 'final_longitude', 'final_elevation'\n",
    "]\n",
    "X = df[X_columns]\n",
    "Y = df.drop(columns=X_columns)"
   ]
  },
  {
   "cell_type": "markdown",
   "metadata": {},
   "source": [
    "##### División de los datos en conjuntos de entrenamiento y prueba\n",
    "  `train_test_split` es una función que forma parte de la biblioteca de scikit-learn en el módulo `sklearn.model_selection`.\n",
    "  Se lo usa comunmente para dividir un conjunto de datos en dos subconjuntos (entrenamiento y prueba)\n",
    "#### Sus parámetros\n",
    "* **Datos**(obligatorio): Conjunto de datos que se desea dividir. \n",
    "  ```python\n",
    "    train_test_split(X,Y)\n",
    "* **test_size**(opcional): Define el porcentaje o la cantidad de datos que se reserva para prueba. Si es 0.2 indica un 20% reservado para prueba.\n",
    "  ```python\n",
    "    train_test_split(X,Y, test_size=0.2)\n",
    "* **train_size**(opcional): Especifica el tamaño del conjunto de Entrenamiento.\n",
    "* **random_state**(opcional): Controla la aleatoridad de la división. Si se usa un valor fijo (`random_state=42`), la división siempre es la misma cada vez que se ejecute el código.\n",
    "  ```python\n",
    "    train_test_split(X, Y, test_size=0.2, random_state=42)\n",
    "* **shuffle** (opcional): Especificsa si los datos deben ser barajados antes de ser divididos. Por defecto está en `True`. Es decir, los datos se mezclarán aleatoriamente antes de ser divididos.\n",
    "  \n"
   ]
  },
  {
   "cell_type": "code",
   "execution_count": null,
   "metadata": {},
   "outputs": [],
   "source": [
    "x_train,x_test,y_train,y_test = train_test_split(X,Y,test_size=0.2,random_state=42)\n",
    "\n",
    "print(type(x_train))"
   ]
  }
 ],
 "metadata": {
  "kernelspec": {
   "display_name": "venv",
   "language": "python",
   "name": "python3"
  },
  "language_info": {
   "codemirror_mode": {
    "name": "ipython",
    "version": 3
   },
   "file_extension": ".py",
   "mimetype": "text/x-python",
   "name": "python",
   "nbconvert_exporter": "python",
   "pygments_lexer": "ipython3",
   "version": "3.12.1"
  }
 },
 "nbformat": 4,
 "nbformat_minor": 2
}
