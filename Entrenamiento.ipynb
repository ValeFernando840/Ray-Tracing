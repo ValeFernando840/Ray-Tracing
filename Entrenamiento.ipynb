{
 "cells": [
  {
   "cell_type": "code",
   "execution_count": 89,
   "metadata": {},
   "outputs": [],
   "source": [
    "import pandas as pd \n",
    "from sklearn.model_selection import train_test_split\n",
    "#Cargamos el Dataset\n",
    "file_path = \"dataset/dataset.csv\"\n",
    "df = pd.read_csv(file_path)\n"
   ]
  },
  {
   "cell_type": "code",
   "execution_count": 90,
   "metadata": {},
   "outputs": [],
   "source": [
    "#Listamos columnas para X y con drop separamos como un filter\n",
    "X_columns = [\n",
    "    'latitude_pos_tx', 'longitude_pos_tx', 'elevation_pos_tx', 'fc', 'elevation', \n",
    "    'azimuth', 'year', 'mmdd', 'UTI', 'hour', 'delay', 'terrestrial_range', \n",
    "    'slant_range', 'final_latitude', 'final_longitude', 'final_elevation'\n",
    "]\n",
    "X = df[X_columns]\n",
    "Y = df.drop(columns=X_columns)"
   ]
  },
  {
   "cell_type": "markdown",
   "metadata": {},
   "source": [
    "##### Uso drop()\n",
    "***drop()*** es una función incorporada en Pandas que te permite eliminar una o más **filas o columnas** de un Marco de Datos. Devuelve un nuevo Marco de Datos con las filas o columnas especificadas eliminadas y no modifica el Marco de Datos original en su lugar, a menos que establezcas el parámetro inplace en True ."
   ]
  },
  {
   "cell_type": "code",
   "execution_count": 91,
   "metadata": {},
   "outputs": [
    {
     "name": "stdout",
     "output_type": "stream",
     "text": [
      "   latitude_pos_tx  longitude_pos_tx  elevation_pos_tx          fc  elevation  \\\n",
      "0           -42.28             -63.4                 0  10000000.0          5   \n",
      "1           -42.28             -63.4                 0  10000000.0          5   \n",
      "2           -42.28             -63.4                 0  10000000.0          5   \n",
      "3           -42.28             -63.4                 0  10000000.0          5   \n",
      "4           -42.28             -63.4                 0  10000000.0          5   \n",
      "\n",
      "   azimuth    year  mmdd  UTI  hour     delay  terrestrial_range   slant_range  \n",
      "0       98  2010.0   101    0     0  0.009048       2.597354e+06  2.712536e+06  \n",
      "1       98  2010.0   101    0     4  0.009853       2.843389e+06  2.953766e+06  \n",
      "2       98  2010.0   101    0     8  0.004795       1.412268e+06  1.437445e+06  \n",
      "3       98  2010.0   101    0    12  0.004712       1.388350e+06  1.412611e+06  \n",
      "4       98  2010.0   101    0    16  0.004787       1.409962e+06  1.435050e+06  \n",
      "   lat_1      lat_2      lat_3      lat_4      lat_5      lat_6      lat_7  \\\n",
      "0 -42.28 -42.284684 -42.284974 -42.289030 -42.312140 -42.345677 -42.380465   \n",
      "1 -42.28 -42.284986 -42.285173 -42.291708 -42.322311 -42.360866 -42.398055   \n",
      "2 -42.28 -42.282619 -42.284986 -42.284979 -42.285474 -42.288078 -42.294373   \n",
      "3 -42.28 -42.282670 -42.284986 -42.284978 -42.285674 -42.288329 -42.296150   \n",
      "4 -42.28 -42.282720 -42.284985 -42.284978 -42.285874 -42.288579 -42.297927   \n",
      "\n",
      "       lat_8      lat_9     lat_10  ...       elev_91       elev_92  \\\n",
      "0 -42.414093 -42.446564 -42.477876  ...  15183.149858  10592.906605   \n",
      "1 -42.433867 -42.468312 -42.501382  ...  10009.676847   6882.856889   \n",
      "2 -42.309771 -42.326908 -42.346826  ...   2150.701349   1198.681147   \n",
      "3 -42.311844 -42.329972 -42.350273  ...     52.201705     53.508720   \n",
      "4 -42.313917 -42.333036 -42.353721  ...    619.362571    620.694247   \n",
      "\n",
      "       elev_93      elev_94     elev_95     elev_96     elev_97    elev_98  \\\n",
      "0  6140.610204  2432.484020  632.575758  498.623935   61.922940   4.157789   \n",
      "1  3921.978575  1126.790365  501.065341  470.017558  162.893584  44.670336   \n",
      "2   833.308673   834.591027  701.926491  514.959162  275.997277  24.655737   \n",
      "3    56.048769    59.969815   61.523438   61.523438   49.405185  32.936790   \n",
      "4   557.217685   364.124645  195.134943   50.248580    1.598011   1.065341   \n",
      "\n",
      "     elev_99  elev_100  \n",
      "0   2.293442       0.0  \n",
      "1  20.912247       0.0  \n",
      "2   0.256471       0.0  \n",
      "3  16.468395       0.0  \n",
      "4   0.532670       0.0  \n",
      "\n",
      "[5 rows x 300 columns]\n"
     ]
    }
   ],
   "source": [
    "# Consideramos que las columnas \"final_latitude\", \"final_longitude\", \"final_elevation\"\n",
    "# No corresponden a parametros de entradas X por lo que lo quitamos.\n",
    "X = X.drop(columns=['final_latitude','final_longitude','final_elevation'])\n",
    "print(X.head())\n",
    "print(Y.head())\n"
   ]
  },
  {
   "cell_type": "code",
   "execution_count": 92,
   "metadata": {},
   "outputs": [],
   "source": [
    "# Ahora vamos a escalar las columnas de elevaciones, que se encuentran en metros se los pasará a Km\n",
    "# y luego se les quitará decimas\n",
    "# print(Y.head())\n",
    "#Nota: En Y tenemos 3 tipos(latitudes, longitudes, elevations)\n",
    "#Generamos los nombres de las columnas. \n",
    "lat_columns = [f'lat_{i}' for i in range(1,101)]\n",
    "long_columns = [f'long_{i}' for i in range(1,101)]\n",
    "elev_columns = [f'elev_{i}' for i in range(1,101)]\n",
    "\n"
   ]
  },
  {
   "cell_type": "code",
   "execution_count": 93,
   "metadata": {},
   "outputs": [
    {
     "name": "stdout",
     "output_type": "stream",
     "text": [
      "<class 'pandas.core.frame.DataFrame'>\n",
      "   elev_1   elev_2   elev_3   elev_4   elev_5   elev_6   elev_7    elev_8  \\\n",
      "0     0.0  0.32750  0.35078  0.63832  2.34344  4.97896  7.92458  11.00981   \n",
      "1     0.0  0.34868  0.36526  0.83345  3.11333  6.21840  9.48904  12.92477   \n",
      "2     0.0  0.18312  0.34876  0.35004  0.38654  0.57094  1.03041   2.16837   \n",
      "3     0.0  0.18664  0.34881  0.35011  0.40072  0.58867  1.16171   2.32156   \n",
      "4     0.0  0.19016  0.34885  0.35019  0.41491  0.60640  1.29301   2.47474   \n",
      "\n",
      "     elev_9   elev_10  ...   elev_91   elev_92  elev_93  elev_94  elev_95  \\\n",
      "0  14.23449  17.59841  ...  15.18315  10.59291  6.14061  2.43248  0.63258   \n",
      "1  16.52553  20.29088  ...  10.00968   6.88286  3.92198  1.12679  0.50107   \n",
      "2   3.48034   5.07071  ...   2.15070   1.19868  0.83331  0.83459  0.70193   \n",
      "3   3.72501   5.34597  ...   0.05220   0.05351  0.05605  0.05997  0.06152   \n",
      "4   3.96968   5.62123  ...   0.61936   0.62069  0.55722  0.36412  0.19513   \n",
      "\n",
      "   elev_96  elev_97  elev_98  elev_99  elev_100  \n",
      "0  0.49862  0.06192  0.00416  0.00229       0.0  \n",
      "1  0.47002  0.16289  0.04467  0.02091       0.0  \n",
      "2  0.51496  0.27600  0.02466  0.00026       0.0  \n",
      "3  0.06152  0.04941  0.03294  0.01647       0.0  \n",
      "4  0.05025  0.00160  0.00107  0.00053       0.0  \n",
      "\n",
      "[5 rows x 100 columns]\n"
     ]
    }
   ],
   "source": [
    "#Teniendo los nombres de las columnas las filtro\n",
    "latitudes = Y[lat_columns]\n",
    "longitudes = Y[long_columns]\n",
    "elevations = Y[elev_columns]\n",
    "\n",
    "k=1000 # valor a dividir para pasar a Km las elevaciones.\n",
    "elevations = (elevations/k).round(5)\n",
    "print(type(elevations))\n",
    "print(elevations.head())\n"
   ]
  },
  {
   "cell_type": "code",
   "execution_count": 94,
   "metadata": {},
   "outputs": [],
   "source": [
    "# Ahora quito las elevaciones en m y concateno con las elevaciones en km y redondeado\n",
    "Y = Y.drop(columns = elev_columns)\n",
    "Y = pd.concat([Y,elevations],axis = 1)#"
   ]
  },
  {
   "cell_type": "code",
   "execution_count": 105,
   "metadata": {},
   "outputs": [
    {
     "name": "stdout",
     "output_type": "stream",
     "text": [
      "          elev_100\n",
      "count  5130.000000\n",
      "mean     64.414795\n",
      "std     119.523198\n",
      "min       0.000000\n",
      "25%       0.000000\n",
      "50%       0.000000\n",
      "75%      21.532835\n",
      "max     304.611820\n"
     ]
    }
   ],
   "source": [
    "print(Y[[\"elev_100\"]].describe())"
   ]
  },
  {
   "cell_type": "markdown",
   "metadata": {},
   "source": [
    "##### División de los datos en conjuntos de entrenamiento y prueba\n",
    "  `train_test_split` es una función que forma parte de la biblioteca de scikit-learn en el módulo `sklearn.model_selection`.\n",
    "  Se lo usa comunmente para dividir un conjunto de datos en dos subconjuntos (entrenamiento y prueba)\n",
    "#### Sus parámetros\n",
    "* **Datos**(obligatorio): Conjunto de datos que se desea dividir. \n",
    "  ```python\n",
    "    train_test_split(X,Y)\n",
    "* **test_size**(opcional): Define el porcentaje o la cantidad de datos que se reserva para prueba. Si es 0.2 indica un 20% reservado para prueba.\n",
    "  ```python\n",
    "    train_test_split(X,Y, test_size=0.2)\n",
    "* **train_size**(opcional): Especifica el tamaño del conjunto de Entrenamiento.\n",
    "* **random_state**(opcional): Controla la aleatoridad de la división. Si se usa un valor fijo (`random_state=42`), la división siempre es la misma cada vez que se ejecute el código.\n",
    "  ```python\n",
    "    train_test_split(X, Y, test_size=0.2, random_state=42)\n",
    "* **shuffle** (opcional): Especificsa si los datos deben ser barajados antes de ser divididos. Por defecto está en `True`. Es decir, los datos se mezclarán aleatoriamente antes de ser divididos.\n",
    "  \n"
   ]
  },
  {
   "cell_type": "code",
   "execution_count": 96,
   "metadata": {},
   "outputs": [
    {
     "name": "stdout",
     "output_type": "stream",
     "text": [
      "Tipo de dato: <class 'pandas.core.frame.DataFrame'> \n",
      "       latitude_pos_tx  longitude_pos_tx  elevation_pos_tx          fc  \\\n",
      "1235           -42.28             -63.4                 0  10000000.0   \n",
      "4047           -42.28             -63.4                 0  20000000.0   \n",
      "949            -42.28             -63.4                 0  10000000.0   \n",
      "4375           -42.28             -63.4                 0  23000000.0   \n",
      "19             -42.28             -63.4                 0  10000000.0   \n",
      "\n",
      "      elevation  azimuth    year  mmdd  UTI  hour     delay  \\\n",
      "1235          5       98  2010.0   725    0    20  0.009413   \n",
      "4047         28       89  2010.0  1215    0    12  0.002455   \n",
      "949           5       98  2010.0   608    0     4  0.009073   \n",
      "4375         34       87  2010.0  1215    0    12  0.001921   \n",
      "19            5       98  2010.0   104    0     4  0.009910   \n",
      "\n",
      "      terrestrial_range   slant_range  \n",
      "1235       2.719923e+06  2.822081e+06  \n",
      "4047       6.188348e+05  7.360000e+05  \n",
      "949        2.570941e+06  2.720000e+06  \n",
      "4375       4.548544e+05  5.760000e+05  \n",
      "19         2.859741e+06  2.970996e+06  \n"
     ]
    }
   ],
   "source": [
    "x_train,x_test,y_train,y_test = train_test_split(X,Y,test_size=0.2,random_state=42)\n",
    "\n",
    "print(\"Tipo de dato:\",type(x_train),\"\\n\", x_train.head())"
   ]
  },
  {
   "cell_type": "code",
   "execution_count": 102,
   "metadata": {},
   "outputs": [
    {
     "name": "stdout",
     "output_type": "stream",
     "text": [
      "Información x_train:\n",
      "\n",
      "<class 'pandas.core.frame.DataFrame'>\n",
      "Index: 4104 entries, 1235 to 860\n",
      "Data columns (total 13 columns):\n",
      " #   Column             Non-Null Count  Dtype  \n",
      "---  ------             --------------  -----  \n",
      " 0   latitude_pos_tx    4104 non-null   float64\n",
      " 1   longitude_pos_tx   4104 non-null   float64\n",
      " 2   elevation_pos_tx   4104 non-null   int64  \n",
      " 3   fc                 4104 non-null   float64\n",
      " 4   elevation          4104 non-null   int64  \n",
      " 5   azimuth            4104 non-null   int64  \n",
      " 6   year               4104 non-null   float64\n",
      " 7   mmdd               4104 non-null   int64  \n",
      " 8   UTI                4104 non-null   int64  \n",
      " 9   hour               4104 non-null   int64  \n",
      " 10  delay              4104 non-null   float64\n",
      " 11  terrestrial_range  4104 non-null   float64\n",
      " 12  slant_range        4104 non-null   float64\n",
      "dtypes: float64(7), int64(6)\n",
      "memory usage: 448.9 KB\n",
      "Información y_train:\n",
      "\n",
      "<class 'pandas.core.frame.DataFrame'>\n",
      "Index: 4104 entries, 1235 to 860\n",
      "Columns: 300 entries, lat_1 to elev_100\n",
      "dtypes: float64(300)\n",
      "memory usage: 9.4 MB\n"
     ]
    }
   ],
   "source": [
    "#Información\n",
    "print(\"Información x_train:\\n\")\n",
    "x_train.info()\n",
    "print(\"\\nInformación y_train:\\n\")\n",
    "y_train.info()\n",
    "\n"
   ]
  },
  {
   "cell_type": "code",
   "execution_count": 104,
   "metadata": {},
   "outputs": [
    {
     "name": "stdout",
     "output_type": "stream",
     "text": [
      "Información x_test:\n",
      "\n",
      "<class 'pandas.core.frame.DataFrame'>\n",
      "Index: 1026 entries, 5104 to 2305\n",
      "Data columns (total 13 columns):\n",
      " #   Column             Non-Null Count  Dtype  \n",
      "---  ------             --------------  -----  \n",
      " 0   latitude_pos_tx    1026 non-null   float64\n",
      " 1   longitude_pos_tx   1026 non-null   float64\n",
      " 2   elevation_pos_tx   1026 non-null   int64  \n",
      " 3   fc                 1026 non-null   float64\n",
      " 4   elevation          1026 non-null   int64  \n",
      " 5   azimuth            1026 non-null   int64  \n",
      " 6   year               1026 non-null   float64\n",
      " 7   mmdd               1026 non-null   int64  \n",
      " 8   UTI                1026 non-null   int64  \n",
      " 9   hour               1026 non-null   int64  \n",
      " 10  delay              1026 non-null   float64\n",
      " 11  terrestrial_range  1026 non-null   float64\n",
      " 12  slant_range        1026 non-null   float64\n",
      "dtypes: float64(7), int64(6)\n",
      "memory usage: 112.2 KB\n",
      "\n",
      "Información y_test:\n",
      "\n",
      "<class 'pandas.core.frame.DataFrame'>\n",
      "Index: 1026 entries, 5104 to 2305\n",
      "Columns: 300 entries, lat_1 to elev_100\n",
      "dtypes: float64(300)\n",
      "memory usage: 2.4 MB\n"
     ]
    }
   ],
   "source": [
    "print(\"Información x_test:\\n\")\n",
    "x_test.info()\n",
    "print(\"\\nInformación y_test:\\n\")\n",
    "y_test.info()"
   ]
  },
  {
   "cell_type": "code",
   "execution_count": null,
   "metadata": {},
   "outputs": [],
   "source": []
  }
 ],
 "metadata": {
  "kernelspec": {
   "display_name": "venv",
   "language": "python",
   "name": "python3"
  },
  "language_info": {
   "codemirror_mode": {
    "name": "ipython",
    "version": 3
   },
   "file_extension": ".py",
   "mimetype": "text/x-python",
   "name": "python",
   "nbconvert_exporter": "python",
   "pygments_lexer": "ipython3",
   "version": "3.12.1"
  }
 },
 "nbformat": 4,
 "nbformat_minor": 2
}
