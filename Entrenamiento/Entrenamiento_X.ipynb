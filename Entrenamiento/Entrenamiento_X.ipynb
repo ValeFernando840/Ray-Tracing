{
 "cells": [
  {
   "cell_type": "code",
   "execution_count": null,
   "metadata": {},
   "outputs": [],
   "source": [
    "# Vamos a realizar una prueba solo son la prediccion de latitudes\n",
    "import pandas as pd \n",
    "import numpy as np\n",
    "\n",
    "import matplotlib.pyplot as plt\n",
    "from tensorflow.keras.models import Model\n",
    "from tensorflow.keras.layers import Input, Dense\n",
    "from tensorflow.keras.regularizers import l2\n",
    "import sys\n",
    "sys.path.append('../')\n",
    "from Utils import utils_nn as utlnn\n"
   ]
  },
  {
   "cell_type": "code",
   "execution_count": null,
   "metadata": {},
   "outputs": [],
   "source": [
    "x_test = pd.read_excel(\"../Train_Test/Dataset_Separado/x_test.xlsx\")\n",
    "x_train = pd.read_excel(\"../Train_Test/Dataset_Separado/x_train.xlsx\")\n",
    "y_test = pd.read_excel(\"../Train_Test/Dataset_Separado/y_test.xlsx\")\n",
    "y_train = pd.read_excel(\"../Train_Test/Dataset_Separado/y_train.xlsx\")\n",
    "\n",
    "\n"
   ]
  },
  {
   "cell_type": "code",
   "execution_count": null,
   "metadata": {},
   "outputs": [],
   "source": [
    "out_x_coord = [f'x_{i}' for i in range(1,101)]\n",
    "y_train_x=y_train[out_x_coord]\n",
    "y_test_x = y_test[out_x_coord]\n",
    "\n"
   ]
  },
  {
   "cell_type": "code",
   "execution_count": null,
   "metadata": {},
   "outputs": [],
   "source": [
    "epoch = 1200\n",
    "b_s = 70\n",
    "\n",
    "while epoch <= 1500:\n",
    "  while b_s <= 130:\n",
    "    l2_reg = 0.00\n",
    "    inputs = Input(shape=(9,))\n",
    "    encoded = Dense(9, activation='relu',kernel_regularizer=l2(l2_reg))(inputs)  # Compresión 8 V3 16 n \n",
    "    decoded = Dense(16, activation='relu',kernel_regularizer=l2(l2_reg))(encoded)\n",
    "    encoded = Dense(32, activation='relu',kernel_regularizer=l2(l2_reg))(encoded)\n",
    "    encoded = Dense(64, activation = 'relu',kernel_regularizer=l2(l2_reg))(encoded)\n",
    "    encoded = Dense(80, activation = 'relu',kernel_regularizer=l2(l2_reg))(encoded)\n",
    "    encoded = Dense(90, activation = 'relu',kernel_regularizer=l2(l2_reg))(encoded)\n",
    "    decoded = Dense(100, activation='linear',kernel_regularizer=l2(l2_reg), name = 'x_output')(encoded)  # Reconstrucción a 100 puntos\n",
    "    autoencoder_x = Model(inputs, decoded)\n",
    "    autoencoder_x.compile(optimizer = 'adam', loss='mse')\n",
    "    autoencoder_x.summary()\n",
    "\n",
    "    history = autoencoder_x.fit(x_train,y_train_x,\n",
    "                          epochs = epoch,\n",
    "                          batch_size = b_s, \n",
    "                          validation_split = 0.1)\n",
    "\n",
    "    loss = autoencoder_x.evaluate(x_test, y_test_x)\n",
    "    \n",
    "    if loss <= 35:\n",
    "      autoencoder_x.save(f'../modelos_entrenamiento/modelos_x/mod_x_{epoch}_{b_s}_vs10_Adam_loss_{round(loss)}.keras')\n",
    "    print(f'Pérdida en datos de Test: {loss} epoch: {epoch}, batch_size: {b_s}')\n",
    "    b_s += 20  \n",
    "  b_s = 80\n",
    "  epoch +=40"
   ]
  },
  {
   "cell_type": "code",
   "execution_count": null,
   "metadata": {},
   "outputs": [],
   "source": [
    "\n",
    "l2_reg = 0.00\n",
    "inputs = Input(shape=(9,))\n",
    "\n",
    "encoded = Dense(9, activation='relu',kernel_regularizer=l2(l2_reg))(inputs)  # Compresión 8 V3 16 n \n",
    "decoded = Dense(16, activation='relu',kernel_regularizer=l2(l2_reg))(encoded) #V3\n",
    "encoded = Dense(32, activation='relu',kernel_regularizer=l2(l2_reg))(encoded)\n",
    "encoded = Dense(64, activation = 'relu',kernel_regularizer=l2(l2_reg))(encoded)\n",
    "encoded = Dense(80, activation = 'relu',kernel_regularizer=l2(l2_reg))(encoded)\n",
    "encoded = Dense(90, activation = 'relu',kernel_regularizer=l2(l2_reg))(encoded)\n",
    "\n",
    "decoded = Dense(100, activation='linear',kernel_regularizer=l2(l2_reg), name = 'x_output')(encoded)  # Reconstrucción a 100 puntos\n",
    "\n",
    "autoencoder_x = Model(inputs, decoded)\n",
    "autoencoder_x.compile(optimizer = 'adam', loss='mse')\n",
    "autoencoder_x.summary()"
   ]
  },
  {
   "cell_type": "code",
   "execution_count": null,
   "metadata": {},
   "outputs": [],
   "source": [
    "history = autoencoder_x.fit(x_train,y_train_x,\n",
    "                          epochs = 900,\n",
    "                          batch_size = 90, \n",
    "                          validation_split = 0.1) "
   ]
  },
  {
   "cell_type": "code",
   "execution_count": null,
   "metadata": {},
   "outputs": [],
   "source": []
  },
  {
   "cell_type": "code",
   "execution_count": null,
   "metadata": {},
   "outputs": [],
   "source": [
    "loss = autoencoder_x.evaluate(x_test, y_test_x)\n",
    "print(f'Pérdida en datos de Test: {loss}')"
   ]
  },
  {
   "cell_type": "code",
   "execution_count": null,
   "metadata": {},
   "outputs": [],
   "source": [
    "if loss <100:\n",
    "  print(\"True\")\n",
    "else :\n",
    "  print(round(loss))"
   ]
  },
  {
   "cell_type": "code",
   "execution_count": null,
   "metadata": {},
   "outputs": [],
   "source": [
    "idx = 377\n",
    "\n",
    " # Elegir una muestra para comparar\n",
    "\n",
    "# Predicción de una muestra \n",
    "y_pred = autoencoder_x.predict(np.expand_dims(x_test.iloc[idx], axis=0))\n",
    "###############################################\n",
    "y_true = y_test_x.iloc[idx] # Se obtine Algo de tipo Serie\n",
    "y_true=y_true.to_numpy() # Transform a Numpy array\n",
    "y_pred = y_pred.flatten() # [[...,...,...,....,]]"
   ]
  },
  {
   "cell_type": "code",
   "execution_count": null,
   "metadata": {},
   "outputs": [],
   "source": [
    "##Graficamos \n",
    "# Pos x\n",
    "plt.figure(figsize=(15, 6))\n",
    "plt.plot(y_true, label='Posiciones X reales', linestyle='None', marker='.')\n",
    "plt.plot(y_pred, label='Posiciones X predichas', linestyle = 'None',marker='o')\n",
    "# plt.ylim(-35,-50) ##(-60,-30)\n",
    "plt.title('Comparación de Posiciones X')\n",
    "plt.legend()\n",
    "plt.grid(True)\n",
    "plt.show()"
   ]
  },
  {
   "cell_type": "code",
   "execution_count": null,
   "metadata": {},
   "outputs": [],
   "source": [
    "ecm, recm = utlnn.calculate_ECM_RECM(y_true,y_pred)\n",
    "print(f'Error Cuadratico Medio:{ecm}, Raiz del Error Cuadratico Medio:{recm} [Km]')\n"
   ]
  },
  {
   "cell_type": "code",
   "execution_count": null,
   "metadata": {},
   "outputs": [],
   "source": [
    "save_model = False\n",
    "\n",
    "if save_model == True:\n",
    "  autoencoder_x.save('../modelos_entrenamiento/modelos_x/mod_x_800_160_vs10_AdamW_l2_0003.keras')"
   ]
  },
  {
   "cell_type": "code",
   "execution_count": null,
   "metadata": {},
   "outputs": [],
   "source": [
    "# Pérdida en datos de Test: 30.48688316345215  / mod_x_800_130_vs10 (Despues de 55 pasadas)\n",
    "# Pérdida en datos de Test: 112.4796371459961 / mod_x_700_80_vs10\n",
    "# Pérdida en datos de Test: 93.09298706054688 / mod_x_800_90_vs10\n",
    "# Pérdida en datos de Test: 36.03205490112305 / mod_x_800_160_vs10_AdamW_l2_0003"
   ]
  },
  {
   "cell_type": "code",
   "execution_count": null,
   "metadata": {},
   "outputs": [],
   "source": []
  }
 ],
 "metadata": {
  "kernelspec": {
   "display_name": "venv",
   "language": "python",
   "name": "python3"
  },
  "language_info": {
   "codemirror_mode": {
    "name": "ipython",
    "version": 3
   },
   "file_extension": ".py",
   "mimetype": "text/x-python",
   "name": "python",
   "nbconvert_exporter": "python",
   "pygments_lexer": "ipython3",
   "version": "3.12.1"
  }
 },
 "nbformat": 4,
 "nbformat_minor": 2
}
