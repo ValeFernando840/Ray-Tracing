{
 "cells": [
  {
   "cell_type": "code",
   "execution_count": 8,
   "metadata": {},
   "outputs": [],
   "source": [
    "# Vamos a realizar una prueba solo son la prediccion de latitudes\n",
    "import pandas as pd \n",
    "import numpy as np\n",
    "\n",
    "import matplotlib.pyplot as plt\n",
    "import tensorflow as tf\n",
    "from tensorflow.keras.models import Model\n",
    "from tensorflow.keras.layers import Input, Dense\n",
    "from tensorflow.keras.callbacks import EarlyStopping, ReduceLROnPlateau \n",
    "from tensorflow.keras.regularizers import l2\n",
    "import sys\n",
    "sys.path.append('../')\n",
    "from Utils import utils_nn as utlnn\n"
   ]
  },
  {
   "cell_type": "code",
   "execution_count": 2,
   "metadata": {},
   "outputs": [],
   "source": [
    "x_test = pd.read_excel(\"../Train_Test/Dataset_Separado/x_test_new.xlsx\")\n",
    "x_train = pd.read_excel(\"../Train_Test/Dataset_Separado/x_train_new.xlsx\")\n",
    "y_test = pd.read_excel(\"../Train_Test/Dataset_Separado/y_test_new.xlsx\")\n",
    "y_train = pd.read_excel(\"../Train_Test/Dataset_Separado/y_train_new.xlsx\")"
   ]
  },
  {
   "cell_type": "code",
   "execution_count": 3,
   "metadata": {},
   "outputs": [],
   "source": [
    "#Definimos el radio Ro = 6.371E6\n",
    "R0= 6.371E6 # [m]\n",
    "\n",
    "out_x_coord = [f'x_{i}' for i in range(1,101)]\n",
    "\n",
    "y_train_x=y_train[out_x_coord]/R0\n",
    "y_test_x = y_test[out_x_coord]/R0\n",
    "\n",
    "# Nota: 'y_test_x' posee 1026 lineas con [x_1 ... x_100] columnas"
   ]
  },
  {
   "cell_type": "code",
   "execution_count": 4,
   "metadata": {},
   "outputs": [
    {
     "name": "stdout",
     "output_type": "stream",
     "text": [
      "Forma de x_train: (4104, 9)\n",
      "Columna 0 (latitude_pos_tx): min=-42.2800, max=-42.2800, mean=-42.2800, std=0.0000\n",
      "Columna 1 (longitude_pos_tx): min=-63.4000, max=-63.4000, mean=-63.4000, std=0.0000\n",
      "Columna 2 (elevation_pos_tx): min=0.0000, max=0.0000, mean=0.0000, std=0.0000\n",
      "Columna 3 (fc [Mhz]): min=3.0000, max=30.0000, mean=13.7032, std=6.9191\n",
      "Columna 4 (elevation): min=0.0000, max=40.0000, mean=13.6659, std=11.8820\n",
      "Columna 5 (azimuth): min=87.0000, max=98.0000, mean=92.8209, std=4.5824\n",
      "Columna 6 (year): min=2010.0000, max=2010.0000, mean=2010.0000, std=0.0000\n",
      "Columna 7 (mmdd): min=101.0000, max=1231.0000, mean=985.1394, std=348.8719\n",
      "Columna 8 (hour): min=0.0000, max=20.0000, mean=11.1647, std=4.5880\n"
     ]
    }
   ],
   "source": [
    "print(\"Forma de x_train:\", x_train.shape)\n",
    "\n",
    "for i, col_name in enumerate(x_train.columns):\n",
    "    col = x_train[col_name]\n",
    "    print(f\"Columna {i} ({col_name}): min={col.min():.4f}, max={col.max():.4f}, mean={col.mean():.4f}, std={col.std():.4f}\")\n"
   ]
  },
  {
   "cell_type": "code",
   "execution_count": 5,
   "metadata": {},
   "outputs": [],
   "source": [
    "x_train = x_train.drop(columns = ['latitude_pos_tx', 'longitude_pos_tx', 'elevation_pos_tx', 'year'])\n",
    "x_test = x_test.drop(columns =['latitude_pos_tx', 'longitude_pos_tx', 'elevation_pos_tx', 'year'])"
   ]
  },
  {
   "cell_type": "code",
   "execution_count": 4,
   "metadata": {},
   "outputs": [],
   "source": [
    "# epoch = 1200\n",
    "# b_s = 70\n",
    "\n",
    "# while epoch <= 1500:\n",
    "#   while b_s <= 130:\n",
    "#     l2_reg = 0.00\n",
    "#     inputs = Input(shape=(9,))\n",
    "#     encoded = Dense(9, activation='relu',kernel_regularizer=l2(l2_reg))(inputs)  # Compresión 8 V3 16 n \n",
    "#     encoded = Dense(16, activation='relu',kernel_regularizer=l2(l2_reg))(encoded)\n",
    "#     encoded = Dense(32, activation='relu',kernel_regularizer=l2(l2_reg))(encoded)\n",
    "#     encoded = Dense(64, activation = 'relu',kernel_regularizer=l2(l2_reg))(encoded)\n",
    "#     encoded = Dense(80, activation = 'relu',kernel_regularizer=l2(l2_reg))(encoded)\n",
    "#     encoded = Dense(90, activation = 'relu',kernel_regularizer=l2(l2_reg))(encoded)\n",
    "#     decoded = Dense(100, activation='linear',kernel_regularizer=l2(l2_reg), name = 'x_output')(encoded)  # Reconstrucción a 100 puntos\n",
    "#     autoencoder_x = Model(inputs, decoded)\n",
    "#     autoencoder_x.compile(optimizer = 'adam', loss='mse')\n",
    "#     autoencoder_x.summary()\n",
    "\n",
    "#     history = autoencoder_x.fit(x_train,y_train_x,\n",
    "#                           epochs = epoch,\n",
    "#                           batch_size = b_s, \n",
    "#                           validation_split = 0.1)\n",
    "\n",
    "#     loss = autoencoder_x.evaluate(x_test, y_test_x)\n",
    "    \n",
    "#     if loss <= 35:\n",
    "#       autoencoder_x.save(f'../modelos_entrenamiento/modelos_x/mod_x_{epoch}_{b_s}_vs10_Adam_loss_{round(loss)}.keras')\n",
    "#     print(f'Pérdida en datos de Test: {loss} epoch: {epoch}, batch_size: {b_s}')\n",
    "#     b_s += 20  \n",
    "#   b_s = 80\n",
    "#   epoch +=40"
   ]
  },
  {
   "cell_type": "code",
   "execution_count": null,
   "metadata": {},
   "outputs": [],
   "source": [
    "from sklearn.preprocessing import MinMaxScaler\n",
    "\n",
    "scaler_x = MinMaxScaler()\n",
    "\n",
    "y_train_x_scaled = scaler_x.fit_transform(y_train_x)\n",
    "y_test_x_scaled = scaler_x.transform(y_test_x) "
   ]
  },
  {
   "cell_type": "code",
   "execution_count": null,
   "metadata": {},
   "outputs": [],
   "source": [
    "early_stopping = EarlyStopping(\n",
    "  monitor = 'val_loss',\t#monitoriamos la pérdida en validación\n",
    "  patience = 30, # Si no mejora en 10->20 epochs, detenemos el entrenamiento.\n",
    "  restore_best_weights = True # Restaura los mejores pesos encontrados.\n",
    ")\n",
    "\n",
    "reduce_lr = ReduceLROnPlateau(\n",
    "  monitor = 'val_loss',\n",
    "  patience = 20,\n",
    "  factor = 0.5\n",
    ")"
   ]
  },
  {
   "cell_type": "code",
   "execution_count": 9,
   "metadata": {},
   "outputs": [
    {
     "data": {
      "text/html": [
       "<pre style=\"white-space:pre;overflow-x:auto;line-height:normal;font-family:Menlo,'DejaVu Sans Mono',consolas,'Courier New',monospace\"><span style=\"font-weight: bold\">Model: \"functional\"</span>\n",
       "</pre>\n"
      ],
      "text/plain": [
       "\u001b[1mModel: \"functional\"\u001b[0m\n"
      ]
     },
     "metadata": {},
     "output_type": "display_data"
    },
    {
     "data": {
      "text/html": [
       "<pre style=\"white-space:pre;overflow-x:auto;line-height:normal;font-family:Menlo,'DejaVu Sans Mono',consolas,'Courier New',monospace\">┏━━━━━━━━━━━━━━━━━━━━━━━━━━━━━━━━━┳━━━━━━━━━━━━━━━━━━━━━━━━┳━━━━━━━━━━━━━━━┓\n",
       "┃<span style=\"font-weight: bold\"> Layer (type)                    </span>┃<span style=\"font-weight: bold\"> Output Shape           </span>┃<span style=\"font-weight: bold\">       Param # </span>┃\n",
       "┡━━━━━━━━━━━━━━━━━━━━━━━━━━━━━━━━━╇━━━━━━━━━━━━━━━━━━━━━━━━╇━━━━━━━━━━━━━━━┩\n",
       "│ input_layer (<span style=\"color: #0087ff; text-decoration-color: #0087ff\">InputLayer</span>)        │ (<span style=\"color: #00d7ff; text-decoration-color: #00d7ff\">None</span>, <span style=\"color: #00af00; text-decoration-color: #00af00\">5</span>)              │             <span style=\"color: #00af00; text-decoration-color: #00af00\">0</span> │\n",
       "├─────────────────────────────────┼────────────────────────┼───────────────┤\n",
       "│ dense (<span style=\"color: #0087ff; text-decoration-color: #0087ff\">Dense</span>)                   │ (<span style=\"color: #00d7ff; text-decoration-color: #00d7ff\">None</span>, <span style=\"color: #00af00; text-decoration-color: #00af00\">8</span>)              │            <span style=\"color: #00af00; text-decoration-color: #00af00\">48</span> │\n",
       "├─────────────────────────────────┼────────────────────────┼───────────────┤\n",
       "│ dense_1 (<span style=\"color: #0087ff; text-decoration-color: #0087ff\">Dense</span>)                 │ (<span style=\"color: #00d7ff; text-decoration-color: #00d7ff\">None</span>, <span style=\"color: #00af00; text-decoration-color: #00af00\">32</span>)             │           <span style=\"color: #00af00; text-decoration-color: #00af00\">288</span> │\n",
       "├─────────────────────────────────┼────────────────────────┼───────────────┤\n",
       "│ dense_2 (<span style=\"color: #0087ff; text-decoration-color: #0087ff\">Dense</span>)                 │ (<span style=\"color: #00d7ff; text-decoration-color: #00d7ff\">None</span>, <span style=\"color: #00af00; text-decoration-color: #00af00\">80</span>)             │         <span style=\"color: #00af00; text-decoration-color: #00af00\">2,640</span> │\n",
       "├─────────────────────────────────┼────────────────────────┼───────────────┤\n",
       "│ x_output (<span style=\"color: #0087ff; text-decoration-color: #0087ff\">Dense</span>)                │ (<span style=\"color: #00d7ff; text-decoration-color: #00d7ff\">None</span>, <span style=\"color: #00af00; text-decoration-color: #00af00\">100</span>)            │         <span style=\"color: #00af00; text-decoration-color: #00af00\">8,100</span> │\n",
       "└─────────────────────────────────┴────────────────────────┴───────────────┘\n",
       "</pre>\n"
      ],
      "text/plain": [
       "┏━━━━━━━━━━━━━━━━━━━━━━━━━━━━━━━━━┳━━━━━━━━━━━━━━━━━━━━━━━━┳━━━━━━━━━━━━━━━┓\n",
       "┃\u001b[1m \u001b[0m\u001b[1mLayer (type)                   \u001b[0m\u001b[1m \u001b[0m┃\u001b[1m \u001b[0m\u001b[1mOutput Shape          \u001b[0m\u001b[1m \u001b[0m┃\u001b[1m \u001b[0m\u001b[1m      Param #\u001b[0m\u001b[1m \u001b[0m┃\n",
       "┡━━━━━━━━━━━━━━━━━━━━━━━━━━━━━━━━━╇━━━━━━━━━━━━━━━━━━━━━━━━╇━━━━━━━━━━━━━━━┩\n",
       "│ input_layer (\u001b[38;5;33mInputLayer\u001b[0m)        │ (\u001b[38;5;45mNone\u001b[0m, \u001b[38;5;34m5\u001b[0m)              │             \u001b[38;5;34m0\u001b[0m │\n",
       "├─────────────────────────────────┼────────────────────────┼───────────────┤\n",
       "│ dense (\u001b[38;5;33mDense\u001b[0m)                   │ (\u001b[38;5;45mNone\u001b[0m, \u001b[38;5;34m8\u001b[0m)              │            \u001b[38;5;34m48\u001b[0m │\n",
       "├─────────────────────────────────┼────────────────────────┼───────────────┤\n",
       "│ dense_1 (\u001b[38;5;33mDense\u001b[0m)                 │ (\u001b[38;5;45mNone\u001b[0m, \u001b[38;5;34m32\u001b[0m)             │           \u001b[38;5;34m288\u001b[0m │\n",
       "├─────────────────────────────────┼────────────────────────┼───────────────┤\n",
       "│ dense_2 (\u001b[38;5;33mDense\u001b[0m)                 │ (\u001b[38;5;45mNone\u001b[0m, \u001b[38;5;34m80\u001b[0m)             │         \u001b[38;5;34m2,640\u001b[0m │\n",
       "├─────────────────────────────────┼────────────────────────┼───────────────┤\n",
       "│ x_output (\u001b[38;5;33mDense\u001b[0m)                │ (\u001b[38;5;45mNone\u001b[0m, \u001b[38;5;34m100\u001b[0m)            │         \u001b[38;5;34m8,100\u001b[0m │\n",
       "└─────────────────────────────────┴────────────────────────┴───────────────┘\n"
      ]
     },
     "metadata": {},
     "output_type": "display_data"
    },
    {
     "data": {
      "text/html": [
       "<pre style=\"white-space:pre;overflow-x:auto;line-height:normal;font-family:Menlo,'DejaVu Sans Mono',consolas,'Courier New',monospace\"><span style=\"font-weight: bold\"> Total params: </span><span style=\"color: #00af00; text-decoration-color: #00af00\">11,076</span> (43.27 KB)\n",
       "</pre>\n"
      ],
      "text/plain": [
       "\u001b[1m Total params: \u001b[0m\u001b[38;5;34m11,076\u001b[0m (43.27 KB)\n"
      ]
     },
     "metadata": {},
     "output_type": "display_data"
    },
    {
     "data": {
      "text/html": [
       "<pre style=\"white-space:pre;overflow-x:auto;line-height:normal;font-family:Menlo,'DejaVu Sans Mono',consolas,'Courier New',monospace\"><span style=\"font-weight: bold\"> Trainable params: </span><span style=\"color: #00af00; text-decoration-color: #00af00\">11,076</span> (43.27 KB)\n",
       "</pre>\n"
      ],
      "text/plain": [
       "\u001b[1m Trainable params: \u001b[0m\u001b[38;5;34m11,076\u001b[0m (43.27 KB)\n"
      ]
     },
     "metadata": {},
     "output_type": "display_data"
    },
    {
     "data": {
      "text/html": [
       "<pre style=\"white-space:pre;overflow-x:auto;line-height:normal;font-family:Menlo,'DejaVu Sans Mono',consolas,'Courier New',monospace\"><span style=\"font-weight: bold\"> Non-trainable params: </span><span style=\"color: #00af00; text-decoration-color: #00af00\">0</span> (0.00 B)\n",
       "</pre>\n"
      ],
      "text/plain": [
       "\u001b[1m Non-trainable params: \u001b[0m\u001b[38;5;34m0\u001b[0m (0.00 B)\n"
      ]
     },
     "metadata": {},
     "output_type": "display_data"
    },
    {
     "ename": "NameError",
     "evalue": "name 'y_train_x_scaled' is not defined",
     "output_type": "error",
     "traceback": [
      "\u001b[31m---------------------------------------------------------------------------\u001b[39m",
      "\u001b[31mNameError\u001b[39m                                 Traceback (most recent call last)",
      "\u001b[36mCell\u001b[39m\u001b[36m \u001b[39m\u001b[32mIn[9]\u001b[39m\u001b[32m, line 26\u001b[39m\n\u001b[32m     23\u001b[39m autoencoder_x.compile(optimizer = optimizer_name, loss=\u001b[33m'\u001b[39m\u001b[33mmse\u001b[39m\u001b[33m'\u001b[39m, metrics = [\u001b[33m'\u001b[39m\u001b[33mmae\u001b[39m\u001b[33m'\u001b[39m]) \u001b[38;5;66;03m#, metrics=['mae']\u001b[39;00m\n\u001b[32m     24\u001b[39m autoencoder_x.summary()\n\u001b[32m---> \u001b[39m\u001b[32m26\u001b[39m history = autoencoder_x.fit(x_train,\u001b[43my_train_x_scaled\u001b[49m,\n\u001b[32m     27\u001b[39m                           epochs = epoch, \n\u001b[32m     28\u001b[39m                           batch_size = b_s,\n\u001b[32m     29\u001b[39m                           validation_split = \u001b[32m0.1\u001b[39m,\n\u001b[32m     30\u001b[39m                           callbacks=[reduce_lr]\n\u001b[32m     31\u001b[39m                           )\n",
      "\u001b[31mNameError\u001b[39m: name 'y_train_x_scaled' is not defined"
     ]
    }
   ],
   "source": [
    "from tensorflow.keras.optimizers import Adam, AdamW, RMSprop, Nadam,SGD\n",
    "\n",
    "#definiciones \n",
    "act_name = \"relu\"\n",
    "l2_reg = 0.000 #0.0001\n",
    "epoch = 400\n",
    "b_s = 32 \n",
    "optimizer_name = Adam(learning_rate=1e-3)\n",
    "# optimizer_name = RMSprop(learning_rate=1e-3)\n",
    "\n",
    "inputs = Input(shape=(5,))\n",
    "encoded = Dense(8, activation='relu',kernel_regularizer=l2(l2_reg))(inputs)  # Compresión 8 V3 16 n \n",
    "# encoded = Dense(16, activation='relu',kernel_regularizer=l2(l2_reg))(encoded) #V3\n",
    "encoded = Dense(32, activation='relu',kernel_regularizer=l2(l2_reg))(encoded)\n",
    "# encoded = Dense(64, activation = 'relu',kernel_regularizer=l2(l2_reg))(encoded)\n",
    "encoded = Dense(80, activation = 'relu',kernel_regularizer=l2(l2_reg))(encoded)\n",
    "# encoded = Dense(90, activation = 'relu',kernel_regularizer=l2(l2_reg))(encoded)\n",
    "# encoded = Dense(100, activation = 'relu',kernel_regularizer=l2(l2_reg))(encoded)\n",
    "decoded = Dense(100, activation='linear',kernel_regularizer=l2(l2_reg), name = 'x_output')(encoded)  # Reconstrucción a 100 puntos\n",
    "\n",
    "# Definición del modelo\n",
    "autoencoder_x = Model(inputs, decoded)\n",
    "autoencoder_x.compile(optimizer = optimizer_name, loss='mse', metrics = ['mae']) #, metrics=['mae']\n",
    "autoencoder_x.summary()\n",
    "\n",
    "history = autoencoder_x.fit(x_train,y_train_x_scaled,\n",
    "                          epochs = epoch, \n",
    "                          batch_size = b_s,\n",
    "                          validation_split = 0.1,\n",
    "                          callbacks=[reduce_lr]\n",
    "                          )"
   ]
  },
  {
   "cell_type": "code",
   "execution_count": null,
   "metadata": {},
   "outputs": [
    {
     "name": "stdout",
     "output_type": "stream",
     "text": [
      "\u001b[1m33/33\u001b[0m \u001b[32m━━━━━━━━━━━━━━━━━━━━\u001b[0m\u001b[37m\u001b[0m \u001b[1m0s\u001b[0m 3ms/step - loss: 1.4224e-04 - mae: 0.0073 \n",
      "Pérdida en datos de Test: [0.00014231886598281562, 0.0071639069356024265]\n"
     ]
    }
   ],
   "source": [
    "loss = autoencoder_x.evaluate(x_test, y_test_x_scaled)\n",
    "print(f'Pérdida en datos de Test: {loss}')\n",
    "\n",
    "# nota: 0.00032 \n",
    "# [0.003203689120709896, 0.032577596604824066]\n",
    "# [0.0031841585878282785, 0.031963370740413666]\n",
    "# [0.00023003153910394758, 0.008729767054319382] Esto me muestra sin L2(0.0)"
   ]
  },
  {
   "cell_type": "code",
   "execution_count": null,
   "metadata": {},
   "outputs": [
    {
     "name": "stdout",
     "output_type": "stream",
     "text": [
      "mae:45641.25108672306[m]\n"
     ]
    }
   ],
   "source": [
    "mae_in_m = loss[1]*R0\n",
    "print(f'mae:{mae_in_m}[m]')"
   ]
  },
  {
   "cell_type": "code",
   "execution_count": 70,
   "metadata": {},
   "outputs": [
    {
     "name": "stdout",
     "output_type": "stream",
     "text": [
      "\u001b[1m1/1\u001b[0m \u001b[32m━━━━━━━━━━━━━━━━━━━━\u001b[0m\u001b[37m\u001b[0m \u001b[1m0s\u001b[0m 26ms/step\n"
     ]
    }
   ],
   "source": [
    "idx = 3\n",
    "\n",
    "# print(x_test.iloc[idx])\n",
    " # Elegir una muestra para comparar (observar luego la muestra 30)\n",
    "\n",
    "# Predicción de una muestra \n",
    "y_pred = autoencoder_x.predict(np.expand_dims(x_test.iloc[idx], axis=0))\n",
    "###############################################\n",
    "y_true = y_test_x.iloc[idx] # Se obtine Algo de tipo Serie\n",
    "y_true=y_true.to_numpy() # Transform a Numpy array\n",
    "y_pred = y_pred.flatten() # [[...,...,...,....,]]"
   ]
  },
  {
   "cell_type": "markdown",
   "metadata": {},
   "source": [
    "luego ver las graficas de la num 70"
   ]
  },
  {
   "cell_type": "code",
   "execution_count": 71,
   "metadata": {},
   "outputs": [
    {
     "data": {
      "image/png": "[encoded data removed]",
      "text/plain": [
       "<Figure size 1500x600 with 1 Axes>"
      ]
     },
     "metadata": {},
     "output_type": "display_data"
    }
   ],
   "source": [
    "##Graficamos \n",
    "# Buscamos los máximos y mínimos \n",
    "y_true_max = np.max(y_true)\n",
    "y_true_min = np.min(y_true)\n",
    "\n",
    "y_pred_max = np.max(y_pred)\n",
    "y_pred_min = np.min(y_pred)\n",
    "\n",
    "# Pos x\n",
    "plt.figure(figsize=(15, 6))\n",
    "plt.plot(y_true, label='Posiciones X reales', linestyle='None', marker='.')\n",
    "plt.plot(y_pred, label='Posiciones X predichas', linestyle = 'None',marker='o')\n",
    "# Dibujamos los max y min\n",
    "plt.axhline(y = y_true_max, color = 'red', linestyle = '-.', label=f'Máx_true: {y_true_max:.3f}')\n",
    "plt.axhline(y = y_pred_max, color = 'red', linestyle = ':', label= f'Máx_pred: {y_pred_max:.3f}')\n",
    "plt.axhline(y = y_true_min, color = 'blue', linestyle ='-.', label=f'Mín_true: {y_true_min:.3f}')\n",
    "plt.axhline(y = y_pred_min, color = 'blue', linestyle = ':',label= f'Mín_pred:{y_pred_min: .3f}')\n",
    "\n",
    "# plt.ylim(-35,-50) ##(-60,-30)\n",
    "plt.title('Comparación de Posiciones X')\n",
    "plt.legend()\n",
    "plt.grid(True)\n",
    "plt.show()"
   ]
  },
  {
   "cell_type": "code",
   "execution_count": 57,
   "metadata": {},
   "outputs": [
    {
     "name": "stdout",
     "output_type": "stream",
     "text": [
      "Error Cuadratico Medio:9.660377738272337e-06, Raiz del Error Cuadratico Medio:0.0031081148206384425 [Km]\n"
     ]
    }
   ],
   "source": [
    "ecm, recm = utlnn.calculate_ECM_RECM(y_true,y_pred)\n",
    "print(f'Error Cuadratico Medio:{ecm}, Raiz del Error Cuadratico Medio:{recm} [Km]')\n"
   ]
  },
  {
   "cell_type": "code",
   "execution_count": 72,
   "metadata": {},
   "outputs": [],
   "source": [
    "save_model = True\n",
    "\n",
    "if save_model == True:\n",
    "  autoencoder_x.save('../modelos_entrenamiento/mod_x_R0/mod_x_400_32_vs10_Nadam_l2_0.keras')"
   ]
  },
  {
   "cell_type": "code",
   "execution_count": null,
   "metadata": {},
   "outputs": [],
   "source": [
    "# Pérdida en datos de Test: 30.48688316345215  / mod_x_800_130_vs10 (Despues de 55 pasadas)\n",
    "# Pérdida en datos de Test: 112.4796371459961 / mod_x_700_80_vs10\n",
    "# Pérdida en datos de Test: 93.09298706054688 / mod_x_800_90_vs10\n",
    "# Pérdida en datos de Test: 36.03205490112305 / mod_x_800_160_vs10_AdamW_l2_0003"
   ]
  },
  {
   "cell_type": "code",
   "execution_count": null,
   "metadata": {},
   "outputs": [],
   "source": [
    "\n",
    "\n"
   ]
  },
  {
   "cell_type": "code",
   "execution_count": null,
   "metadata": {},
   "outputs": [],
   "source": []
  },
  {
   "cell_type": "code",
   "execution_count": null,
   "metadata": {},
   "outputs": [],
   "source": [
    "# Opciones de Optimizadores Utilizados\n",
    "\n",
    "from tensorflow.keras.optimizers import RMSprop\n",
    "\n",
    "optimizer = RMSprop(learning_rate=1e-3, rho=0.9)\n",
    "model.compile(optimizer=optimizer, loss='mse', metrics=['mae'])"
   ]
  }
 ],
 "metadata": {
  "kernelspec": {
   "display_name": "venv",
   "language": "python",
   "name": "python3"
  },
  "language_info": {
   "codemirror_mode": {
    "name": "ipython",
    "version": 3
   },
   "file_extension": ".py",
   "mimetype": "text/x-python",
   "name": "python",
   "nbconvert_exporter": "python",
   "pygments_lexer": "ipython3",
   "version": "3.12.1"
  }
 },
 "nbformat": 4,
 "nbformat_minor": 2
}
