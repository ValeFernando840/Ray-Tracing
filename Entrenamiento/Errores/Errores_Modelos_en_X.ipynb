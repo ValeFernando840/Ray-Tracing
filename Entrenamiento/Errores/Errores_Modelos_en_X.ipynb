{
 "cells": [
  {
   "cell_type": "markdown",
   "metadata": {},
   "source": [
    "Vamos a realizar el cálculo de errores para cada modelo haciendolos pasar por cada linea del conjuntos de Test.\n",
    "\n",
    "Tendremos las primeras 100 columnas que corresponderan a la distancia entre la prediccion y el valor True, esta distancia en Km.\n",
    "\n",
    "Las otras 2 columnas corresponderan al Error Cuadratico Medio y a la Raíz del Error Cuadratico Medio.\n"
   ]
  },
  {
   "cell_type": "code",
   "execution_count": 1,
   "metadata": {},
   "outputs": [],
   "source": [
    "import tensorflow as tf\n",
    "import numpy as np\n",
    "import pandas as pd \n",
    "import sys \n",
    "sys.path.append('../../')\n",
    "from Utils import utils_nn as utlnn"
   ]
  },
  {
   "cell_type": "code",
   "execution_count": null,
   "metadata": {},
   "outputs": [],
   "source": [
    "x_test = pd.read_excel"
   ]
  }
 ],
 "metadata": {
  "kernelspec": {
   "display_name": "venv",
   "language": "python",
   "name": "python3"
  },
  "language_info": {
   "codemirror_mode": {
    "name": "ipython",
    "version": 3
   },
   "file_extension": ".py",
   "mimetype": "text/x-python",
   "name": "python",
   "nbconvert_exporter": "python",
   "pygments_lexer": "ipython3",
   "version": "3.12.1"
  }
 },
 "nbformat": 4,
 "nbformat_minor": 2
}
