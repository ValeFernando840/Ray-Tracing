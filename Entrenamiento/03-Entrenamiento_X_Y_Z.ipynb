{
 "cells": [
  {
   "cell_type": "markdown",
   "id": "73efa008",
   "metadata": {},
   "source": [
    "# Entrenamiento en X  Y Z\n"
   ]
  },
  {
   "cell_type": "code",
   "execution_count": null,
   "id": "31ba29cc",
   "metadata": {},
   "outputs": [
    {
     "ename": "ModuleNotFoundError",
     "evalue": "No module named 'Utils'",
     "output_type": "error",
     "traceback": [
      "\u001b[1;31m---------------------------------------------------------------------------\u001b[0m",
      "\u001b[1;31mModuleNotFoundError\u001b[0m                       Traceback (most recent call last)",
      "Cell \u001b[1;32mIn[1], line 10\u001b[0m\n\u001b[0;32m      8\u001b[0m \u001b[38;5;28;01mfrom\u001b[39;00m \u001b[38;5;21;01mtensorflow\u001b[39;00m\u001b[38;5;21;01m.\u001b[39;00m\u001b[38;5;21;01mkeras\u001b[39;00m\u001b[38;5;21;01m.\u001b[39;00m\u001b[38;5;21;01moptimizers\u001b[39;00m \u001b[38;5;28;01mimport\u001b[39;00m Adam\n\u001b[0;32m      9\u001b[0m \u001b[38;5;28;01mfrom\u001b[39;00m \u001b[38;5;21;01msklearn\u001b[39;00m\u001b[38;5;21;01m.\u001b[39;00m\u001b[38;5;21;01mpreprocessing\u001b[39;00m \u001b[38;5;28;01mimport\u001b[39;00m MinMaxScaler\n\u001b[1;32m---> 10\u001b[0m \u001b[38;5;28;01mfrom\u001b[39;00m \u001b[38;5;21;01mUtils\u001b[39;00m \u001b[38;5;28;01mimport\u001b[39;00m geo_conversions \u001b[38;5;28;01mas\u001b[39;00m gc\n\u001b[0;32m     12\u001b[0m \u001b[38;5;28;01mimport\u001b[39;00m \u001b[38;5;21;01msys\u001b[39;00m\n\u001b[0;32m     13\u001b[0m sys\u001b[38;5;241m.\u001b[39mpath\u001b[38;5;241m.\u001b[39mappend(\u001b[38;5;124m'\u001b[39m\u001b[38;5;124m../\u001b[39m\u001b[38;5;124m'\u001b[39m)\n",
      "\u001b[1;31mModuleNotFoundError\u001b[0m: No module named 'Utils'"
     ]
    }
   ],
   "source": [
    "import pandas as pd \n",
    "import numpy as np\n",
    "import matplotlib.pyplot as plt\n",
    "from tensorflow.keras.callbacks import EarlyStopping, ReduceLROnPlateau\n",
    "from tensorflow.keras.models import Model\n",
    "from tensorflow.keras.layers import Input, Dense\n",
    "from tensorflow.keras.regularizers import l2\n",
    "from tensorflow.keras.optimizers import Adam\n",
    "from sklearn.preprocessing import MinMaxScaler\n",
    "\n",
    "\n",
    "import sys\n",
    "sys.path.append('../')\n",
    "from Utils import plotter as plots\n",
    "from Utils import geo_conversions as gc"
   ]
  },
  {
   "cell_type": "code",
   "execution_count": null,
   "id": "4535224b",
   "metadata": {},
   "outputs": [],
   "source": [
    "# Obtención, drop y normalización de los datos.\n",
    "x_test\t\t= pd.read_excel(\"../Train_Test/Dataset_Separado/x_test_new.xlsx\")\n",
    "x_train\t\t= pd.read_excel(\"../Train_Test/Dataset_Separado/x_train_new.xlsx\")\n",
    "y_test\t\t= pd.read_excel(\"../Train_Test/Dataset_Separado/y_test_new.xlsx\")\n",
    "y_train\t\t= pd.read_excel(\"../Train_Test/Dataset_Separado/y_train_new.xlsx\")\n",
    "\n",
    "x_train \t= x_train.drop(columns = ['latitude_pos_tx', 'longitude_pos_tx', 'elevation_pos_tx', 'year'])\n",
    "x_test\t\t= x_test.drop(columns =['latitude_pos_tx', 'longitude_pos_tx', 'elevation_pos_tx', 'year'])\n",
    "\n",
    "R0 = 6.371E6 #[m]\n",
    "y_train_xyz = y_train/R0\n",
    "y_test_xyz\t= y_test/R0"
   ]
  },
  {
   "cell_type": "code",
   "execution_count": null,
   "id": "51004adf",
   "metadata": {},
   "outputs": [],
   "source": [
    "# Escalado.\n",
    "scaler_x\t= MinMaxScaler()\n",
    "scaler_y\t= MinMaxScaler()\n",
    "scaler_z\t= MinMaxScaler()\n",
    "\n",
    "y_train_x_scaled\t= scaler_x.fit_transform(y_train_xyz.iloc[:,   :100])\n",
    "y_train_y_scaled\t= scaler_y.fit_transform(y_train_xyz.iloc[:,100:200])\n",
    "y_train_z_scaled\t= scaler_z.fit_transform(y_train_xyz.iloc[:,200:300])\n",
    "\n",
    "y_test_x_scaled\t= scaler_x.transform(y_test_xyz.iloc[:,\t\t:100])\n",
    "y_test_y_scaled\t= scaler_y.transform(y_test_xyz.iloc[:,100:200])\n",
    "y_test_z_scaled\t= scaler_z.transform(y_test_xyz.iloc[:,200:300])\n",
    "\n"
   ]
  },
  {
   "cell_type": "code",
   "execution_count": null,
   "id": "4ab4d891",
   "metadata": {},
   "outputs": [],
   "source": [
    "# Callbacks.\n",
    "reduce_lr\t\t= ReduceLROnPlateau(\n",
    "\tmonitor\t\t= 'val_loss',\n",
    "  patience\t= 20,\n",
    "  factor\t\t= 0.5\n",
    ")"
   ]
  },
  {
   "cell_type": "code",
   "execution_count": null,
   "id": "2300ff58",
   "metadata": {},
   "outputs": [],
   "source": [
    "# definiciones Previas.\n",
    "act_name\t= 'relu'\n",
    "l2_reg\t\t= 0.0007\n",
    "epochs\t\t= 950\n",
    "b_s\t\t\t\t= 32\n",
    "optimizer = Adam(learning_rate=0.001)\n",
    "\n",
    "# Arquitectura.\n",
    "inputs\t= Input(shape=(5,))\n",
    "encoded\t= Dense(32,\t activation\t= act_name, kernel_regularizer = l2(l2_reg))(inputs)\n",
    "encoded = Dense(128, activation = act_name, kernel_regularizer = l2(l2_reg))(encoded)\n",
    "encoded = Dense(256, activation = act_name, kernel_regularizer = l2(l2_reg))(encoded)\n",
    "encoded = Dense(512, activation = act_name, kernel_regularizer = l2(l2_reg))(encoded)\n",
    "encoded = Dense(512, activation = act_name, kernel_regularizer = l2(l2_reg))(encoded)\n",
    "\n",
    "decoded_x = Dense(100, activation = 'linear', name = 'x')(encoded)\n",
    "decoded_y = Dense(100, activation = 'linear', name = 'y')(encoded)\n",
    "decoded_z = Dense(100, activation = 'linear', name = 'z')(encoded)\n",
    "\n",
    "# Definición modelo con multiples salidas.\n",
    "model_xyz = Model(inputs\t= inputs, outputs=[decoded_x, decoded_y, decoded_z])\n",
    "model_xyz.compile(optimizer = optimizer, loss = 'mae')\n",
    "model_xyz.summary()\n",
    "\n",
    "# Entrenamiento.\n",
    "history_xyz = model_xyz.fit(x_train,\n",
    "                            [y_train_x_scaled,\n",
    "                            y_train_y_scaled,\n",
    "                            y_train_z_scaled],\n",
    "                            epochs\t\t\t\t\t\t= epochs,\n",
    "\t\t\t\t\t\t\t\t\t\t\t\t\t\tbatch_size\t\t\t\t= b_s,\n",
    "                            validation_split\t= 0.1,\n",
    "                            callbacks\t\t\t\t\t= [reduce_lr],\n",
    "                          \t)\n",
    "\n"
   ]
  },
  {
   "cell_type": "code",
   "execution_count": null,
   "id": "c30ed1a4",
   "metadata": {},
   "outputs": [],
   "source": [
    "loss = model_xyz.evaluate(x_test,[y_test_x_scaled,\n",
    "\t\t\t\t\t\t\t\t\t\t\t\t\t\t\t\t\ty_test_y_scaled,\n",
    "\t\t\t\t\t\t\t\t\t\t\t\t\t\t\t\t\ty_test_z_scaled],\n",
    "\t\t\t\t\t\t\t\t\t\t\t\t\t)"
   ]
  },
  {
   "cell_type": "code",
   "execution_count": null,
   "id": "fe690b76",
   "metadata": {},
   "outputs": [],
   "source": [
    "idx = 545\n",
    "pred_x_scaled, pred_y_scaled, pred_z_scaled = model_xyz.predict(np.expand_dims(x_test.iloc[idx], axis = 0))\n",
    "pred_x = scaler_x.inverse_transform(pred_x_scaled).flatten()\n",
    "pred_y = scaler_y.inverse_transform(pred_y_scaled).flatten()\n",
    "pred_z = scaler_z.inverse_transform(pred_z_scaled).flatten()\n",
    "true_x = y_test_xyz.iloc[idx,\t \t :100].to_numpy()\n",
    "true_y = y_test_xyz.iloc[idx,\t100:200].to_numpy()\n",
    "true_z = y_test_xyz.iloc[idx, 200:300].to_numpy()"
   ]
  },
  {
   "cell_type": "code",
   "execution_count": null,
   "id": "47d5f63d",
   "metadata": {},
   "outputs": [],
   "source": [
    "# plots.plot_1D(true_x, pred_x,'x')\n",
    "# plots.plot_1D(true_y, pred_y,'y')\n",
    "# plots.plot_1D(true_z, pred_z,'z')\n",
    "# plots.plot_2D(true_x, true_y, pred_x, pred_y)"
   ]
  },
  {
   "cell_type": "code",
   "execution_count": null,
   "id": "2e09594d",
   "metadata": {},
   "outputs": [],
   "source": [
    "lat_true, lon_true, alt_true = gc.transform_spherical_to_geographic(*gc.transform_cartesian_to_spherical(true_x, true_y, true_z))\n",
    "lat_pred, lon_pred, alt_pred = gc.transform_spherical_to_geographic(*gc.transform_cartesian_to_spherical(pred_x, pred_y, pred_z))"
   ]
  },
  {
   "cell_type": "code",
   "execution_count": null,
   "id": "a84cc2ca",
   "metadata": {},
   "outputs": [],
   "source": [
    "plt.figure(figsize = (12,6))\n",
    "plt.plot(lat_true, label = 'True Lat', color = 'blue')\n",
    "plt.plot(lat_pred, label = 'Pred Lat', color = 'red')\n",
    "plt.ylim(lat_true.min() - 1.5, lat_true.max() + 1.5)\n",
    "plt.title('Comparación Latitud Test vs Predicción')\n",
    "plt.ylabel('Latitud (grados)')\n",
    "plt.xlabel('Muestras')\n",
    "plt.grid()\n",
    "plt.legend()\n",
    "plt.show()\n",
    "\n",
    "plt.figure(figsize= (12,6))\n",
    "plt.plot(lon_true, label = 'True Lon', color = 'blue')\n",
    "plt.plot(lon_pred, label = 'Pred Lon', color = 'red')\n",
    "plt.ylim(lon_true.min() - 0.5, lon_true.max() + 0.5)\n",
    "plt.title('Comparación Longitud Test vs Predicción')\n",
    "plt.ylabel('Longitud (grados)')\n",
    "plt.xlabel('Muestras')\n",
    "plt.grid()\n",
    "plt.legend()\n",
    "plt.show()\n",
    "\n",
    "plt.figure(figsize = (12,6))\n",
    "plt.plot(alt_true, label = 'True Alt', color = 'blue')\n",
    "plt.plot(alt_pred, label = 'Pred Alt', color = 'red')\n",
    "plt.title('Comparación Altitud Test vs Predicción')\n",
    "plt.ylabel('Altitud (m)')\n",
    "plt.xlabel('Muestras')\n",
    "plt.grid()\n",
    "plt.legend()\n",
    "plt.show()\n"
   ]
  },
  {
   "cell_type": "code",
   "execution_count": null,
   "id": "b2a14f61",
   "metadata": {},
   "outputs": [],
   "source": [
    "import pickle\n",
    "\n",
    "save_model = False\n",
    "name_model = 'modelo3'\n",
    "name_scaler = 'scaler3'\n",
    "if save_model:\n",
    "    model_xyz.save('../modelos_entrenamiento/mod_x_y_z_R0/modelo2/modelo2_xyz.keras')\n",
    "\n",
    "    with open('../modelos_entrenamiento/mod_x_y_z_R0/modelo2/scaler_x.pkl', 'wb') as file:\n",
    "        pickle.dump(scaler_x, file)\n",
    "\n",
    "    with open('../modelos_entrenamiento/mod_x_y_z_R0/modelo2/scaler_y.pkl', 'wb') as file:\n",
    "        pickle.dump(scaler_y, file)\n",
    "\n",
    "    with open('../modelos_entrenamiento/mod_x_y_z_R0/modelo2/scaler_z.pkl', 'wb') as file:\n",
    "        pickle.dump(scaler_z, file)\n"
   ]
  },
  {
   "cell_type": "code",
   "execution_count": null,
   "id": "78e312df",
   "metadata": {},
   "outputs": [],
   "source": []
  }
 ],
 "metadata": {
  "kernelspec": {
   "display_name": "Python 3",
   "language": "python",
   "name": "python3"
  },
  "language_info": {
   "codemirror_mode": {
    "name": "ipython",
    "version": 3
   },
   "file_extension": ".py",
   "mimetype": "text/x-python",
   "name": "python",
   "nbconvert_exporter": "python",
   "pygments_lexer": "ipython3",
   "version": "3.12.5"
  }
 },
 "nbformat": 4,
 "nbformat_minor": 5
}
