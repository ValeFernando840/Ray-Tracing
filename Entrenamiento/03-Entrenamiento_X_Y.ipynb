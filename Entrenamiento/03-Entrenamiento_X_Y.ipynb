{
 "cells": [
  {
   "cell_type": "markdown",
   "id": "e08517c1",
   "metadata": {},
   "source": [
    "En este archivo se llevará a cabo el entrenamiento de las coordenadas X Y en conjunto.\\\n",
    "Observaremos si obtenemos mejoras en función a la relación que pueda llegar a obtener la Red al entrenar ambas coordenadas."
   ]
  },
  {
   "cell_type": "code",
   "execution_count": null,
   "id": "2140fdc4",
   "metadata": {},
   "outputs": [],
   "source": []
  }
 ],
 "metadata": {
  "kernelspec": {
   "display_name": "venv",
   "language": "python",
   "name": "python3"
  },
  "language_info": {
   "name": "python",
   "version": "3.12.1"
  }
 },
 "nbformat": 4,
 "nbformat_minor": 5
}
