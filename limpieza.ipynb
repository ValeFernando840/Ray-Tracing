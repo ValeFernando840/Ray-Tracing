{
 "cells": [
  {
   "cell_type": "markdown",
   "id": "07dd344a",
   "metadata": {},
   "source": [
    "Esta sección de código solo se utilizo para limpiar la ultima altura de mi dataset cuando el ultimo valor sea menor a 1000 mts este lo remplazo por 0 m. \n",
    "luego se lo guardo sobre el mismo archivo."
   ]
  },
  {
   "cell_type": "code",
   "execution_count": 2,
   "id": "41d4716e",
   "metadata": {},
   "outputs": [],
   "source": [
    "import pandas as pd\n",
    "\n",
    "\n",
    "df = pd.read_excel('NuevoExcelCompleto_para_ver.xlsx')"
   ]
  },
  {
   "cell_type": "code",
   "execution_count": 4,
   "id": "85cfa4b3",
   "metadata": {},
   "outputs": [],
   "source": [
    "df.loc[df['elev_100'] < 1000,'elev_100'] = 0"
   ]
  },
  {
   "cell_type": "code",
   "execution_count": 6,
   "id": "77c6da53",
   "metadata": {},
   "outputs": [],
   "source": [
    "df.to_excel('NuevoExcelCompleto_para_ver.xlsx',index = False)"
   ]
  }
 ],
 "metadata": {
  "kernelspec": {
   "display_name": "venv",
   "language": "python",
   "name": "python3"
  },
  "language_info": {
   "codemirror_mode": {
    "name": "ipython",
    "version": 3
   },
   "file_extension": ".py",
   "mimetype": "text/x-python",
   "name": "python",
   "nbconvert_exporter": "python",
   "pygments_lexer": "ipython3",
   "version": "3.12.1"
  }
 },
 "nbformat": 4,
 "nbformat_minor": 5
}
