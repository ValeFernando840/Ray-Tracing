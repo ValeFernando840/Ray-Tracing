{
 "cells": [
  {
   "cell_type": "code",
   "execution_count": 46,
   "metadata": {},
   "outputs": [],
   "source": [
    "import pandas as pd\n",
    "import numpy as np\n"
   ]
  },
  {
   "cell_type": "code",
   "execution_count": 47,
   "metadata": {},
   "outputs": [],
   "source": [
    "df = pd.read_excel(\"NuevoExcelCompleto_para_ver.xlsx\")"
   ]
  },
  {
   "cell_type": "code",
   "execution_count": 48,
   "metadata": {},
   "outputs": [],
   "source": [
    "lat_columns = [f'lat_{i}' for i in range(1,101)]\n",
    "lon_columns = [f'long_{i}' for i in range(1,101)]\n",
    "height_columns = [f'elev_{i}' for i in range(1,101)]"
   ]
  },
  {
   "cell_type": "code",
   "execution_count": 49,
   "metadata": {},
   "outputs": [],
   "source": [
    "df_lat = df[lat_columns]\n",
    "df_lon = df[lon_columns]\n",
    "df_heights = df[height_columns]\n",
    "\n",
    "lat = df_lat.to_numpy()\n",
    "lon = df_lon.to_numpy()\n",
    "heights = df_heights.to_numpy()"
   ]
  },
  {
   "cell_type": "code",
   "execution_count": 50,
   "metadata": {},
   "outputs": [
    {
     "data": {
      "text/plain": [
       "array([-42.28000045, -42.2846843 , -42.28497448, -42.28902996,\n",
       "       -42.31214001, -42.34567665, -42.38046508, -42.41409321,\n",
       "       -42.44656393, -42.477876  , -42.508029  , -42.53702502,\n",
       "       -42.56486032, -42.59154028, -42.61705786, -42.64142301,\n",
       "       -42.66463572, -42.68665625, -42.7074846 , -42.72716051,\n",
       "       -42.74569475, -42.76308855, -42.77934192, -42.79446313,\n",
       "       -42.80845591, -42.82132026, -42.83306198, -42.84368727,\n",
       "       -42.85319613, -42.86159188, -42.8688857 , -42.87508544,\n",
       "       -42.88018242, -42.88419898, -42.88706063, -42.88884185,\n",
       "       -42.88955385, -42.88920779, -42.88780532, -42.88535515,\n",
       "       -42.88186844, -42.87734934, -42.87180405, -42.86524376,\n",
       "       -42.85767508, -42.84910175, -42.83953493, -42.8289858 ,\n",
       "       -42.81746431, -42.80497044, -42.79147068, -42.77697743,\n",
       "       -42.76152382, -42.74509907, -42.72769203, -42.7092915 ,\n",
       "       -42.68988631, -42.66946528, -42.64801063, -42.62551157,\n",
       "       -42.60196315, -42.57735832, -42.55169378, -42.52496084,\n",
       "       -42.49715948, -42.4682889 , -42.43833789, -42.40721914,\n",
       "       -42.37500797, -42.34170438, -42.30729802, -42.27179677,\n",
       "       -42.23519441, -42.19747976, -42.15865572, -42.11872105,\n",
       "       -42.07766996, -42.03550244, -41.9922185 , -41.94781523,\n",
       "       -41.9022856 , -41.85563831, -41.80786259, -41.75891952,\n",
       "       -41.70882153, -41.65759553, -41.60524109, -41.55175823,\n",
       "       -41.49715604, -41.44142915, -41.38458128, -41.32661698,\n",
       "       -41.26753625, -41.21623574, -41.19052649, -41.18854657,\n",
       "       -41.18220525, -41.18137487, -41.18134838, -41.18130988])"
      ]
     },
     "execution_count": 50,
     "metadata": {},
     "output_type": "execute_result"
    }
   ],
   "source": [
    "lat[0]"
   ]
  },
  {
   "cell_type": "code",
   "execution_count": 60,
   "metadata": {},
   "outputs": [],
   "source": [
    "def transform_coords_cartesian(lat_ar,lon_ar,height_ar):\n",
    "  # phi = np.radians(90-lat_ar)\n",
    "  phi = np.radians(lat_ar)\n",
    "  theta = np.radians(lon_ar)\n",
    "  print(f'phi1: {phi[0]} theta: {theta[0]}')\n",
    "  x = np.array([])\n",
    "  y = np. array([])\n",
    "  z = np.array([])\n",
    "  radio = 1 #6.371E6\n",
    "  for phi_i,theta_i, height_i in zip(phi,theta,height_ar):\n",
    "    h = (height_i + radio)\n",
    "    x_i = h * np.cos(phi_i) * np.sin(theta_i)\n",
    "    y_i = h * np.sin(phi_i) * np.sin(theta_i)\n",
    "    z_i = h * np.cos(theta_i)\n",
    "    x = np.append(x,x_i)\n",
    "    y = np.append(y, y_i)\n",
    "    z = np.append(z,z_i)\n",
    "  return x,y,z\n",
    "\n",
    "def transform_cartesian_to_spherical(x,y,z):\n",
    "  rho = np.array([])\n",
    "  theta = np.array([]) \n",
    "  phi= np.array([])\n",
    "  z = z\n",
    "  for x_i,y_i,z_i in zip(x,y,z):\n",
    "    rho_i = np.sqrt(x_i**2+y_i**2+(z_i)**2)\n",
    "    if z_i > 0:\n",
    "      theta_i = np.arctan(np.sqrt(x_i**2+y_i**2)/z_i)\n",
    "    if z_i == 0:\n",
    "      theta_i = np.pi/2\n",
    "    if z_i < 0:\n",
    "      theta_i = np.pi + np.arctan(np.sqrt(x_i**2+y_i**2)/z_i)\n",
    "    if x_i > 0 and y_i > 0: # 1° Q\n",
    "      phi_i = np.arctan(y_i/x_i)\n",
    "    if x_i > 0 and y_i < 0: # 4° Q\n",
    "      phi_i = 2*np.pi + np.arctan(y_i/x_i)\n",
    "    if x_i == 0:\n",
    "      phi_i = (np.pi/2)*np.sign(y_i)\n",
    "    if x_i < 0: # 2° y 3° Q\n",
    "      phi_i = np.pi + np.arctan(y_i/x_i)\n",
    "    \n",
    "    rho = np.append(rho,rho_i)\n",
    "    theta = np.append(theta,theta_i)\n",
    "    phi = np.append(phi,phi_i)\n",
    "  return theta,phi,rho\n",
    "\n",
    "def transform (x,y,z):\n",
    "  rho = np.sqrt(x**2+y**2+z**2)\n",
    "  phi = np.arctan(y/x)\n",
    "  theta = np.arctan(np.sqrt(x**2+y**2)/z)\n",
    "  return phi,theta,rho\n"
   ]
  },
  {
   "cell_type": "code",
   "execution_count": 52,
   "metadata": {},
   "outputs": [],
   "source": [
    "# x,y,z = zip(*(map(lambda args: np.array(transform_coords_cartesian(*args)), zip(lat, lon, heights))))"
   ]
  },
  {
   "cell_type": "code",
   "execution_count": 53,
   "metadata": {},
   "outputs": [],
   "source": [
    "# genero el dataset para agregar \n",
    "# x_columns = [f'x_{i}' for i in range(1,101)]\n",
    "# y_columns = [f'y_{i}' for i in range(1,101)]\n",
    "# z_columns = [f'z_{i}' for i in range(1,101)]\n",
    "# x_df = pd.DataFrame(x,columns= [x_columns])\n",
    "# y_df = pd.DataFrame(y,columns = [y_columns])\n",
    "# z_df = pd.DataFrame(z,columns = [z_columns])\n",
    "# coord_df = pd.concat([x_df,y_df,z_df], axis = 1)\n",
    "\n",
    "# coord_df.head()\n"
   ]
  },
  {
   "cell_type": "code",
   "execution_count": 61,
   "metadata": {},
   "outputs": [],
   "source": [
    "X1_lat = lat[0]\n",
    "Y1_lon = lon[0]\n",
    "Z1_h = heights[0]"
   ]
  },
  {
   "cell_type": "code",
   "execution_count": 62,
   "metadata": {},
   "outputs": [
    {
     "name": "stdout",
     "output_type": "stream",
     "text": [
      "Ingresa => Latitud :-42.28000045045373, Longitud:-63.40000836722327, Altura:0.0\n"
     ]
    }
   ],
   "source": [
    "print(f'Ingresa => Latitud :{X1_lat[0]}, Longitud:{Y1_lon[0]}, Altura:{Z1_h[0]}')"
   ]
  },
  {
   "cell_type": "code",
   "execution_count": 66,
   "metadata": {},
   "outputs": [
    {
     "name": "stdout",
     "output_type": "stream",
     "text": [
      "phi1: -0.7379252156051032 theta: -1.1065388918000003\n",
      "Transf coord Cartesiana x1:-0.6615543404241261, y1:0.6015461502321016, z:0.4477589572604186\n",
      "phi_1: -0.7379252156051032,  theta_1: 1.1065388918000003, rho_1: 1.0[m] \n",
      "lat_1: -42.28000045045373,  theta_1: 63.40000836722327, en radianes rho_1: 1.0 [m]\n"
     ]
    }
   ],
   "source": [
    "x1,y1,z1 = transform_coords_cartesian(X1_lat,Y1_lon,Z1_h)\n",
    "print(f'Transf coord Cartesiana x1:{x1[0]}, y1:{y1[0]}, z:{z1[0]}')\n",
    "phi_n, theta_n, rho_n = transform (x1,y1,z1)\n",
    "print(f'phi_1: {phi_n[0]},  theta_1: {theta_n[0]}, rho_1: {rho_n[0]}[m] ')\n",
    "print(f'lat_1: {np.degrees(phi_n[0])},  theta_1: {np.degrees(theta_n)[0]}, en radianes rho_1: {rho_n[0]} [m]')\n",
    "\n",
    "#Continuar viendo la funcion nueva \n",
    "# theta,phi,rho = transform_cartesian_to_spherical(x1,y1,z1)"
   ]
  },
  {
   "cell_type": "code",
   "execution_count": null,
   "metadata": {},
   "outputs": [
    {
     "name": "stdout",
     "output_type": "stream",
     "text": [
      "-0.7379252156051032\n",
      "2.4036674379846903\n",
      "-1.1065388918000003\n",
      "0.7295760307945742\n"
     ]
    }
   ],
   "source": [
    "\n",
    "# Comparamos Latitudes\n",
    "# print(\"latitud Real:\",X1_lat)\n",
    "radian_lat = np.radians(X1_lat[0])\n",
    "print(radian_lat)\n",
    "print(phi_n[0])\n",
    "radian_lon = np.radians(Y1_lon[0])\n",
    "print(radian_lon)\n",
    "print(theta_n[0])\n",
    "# print(np.degrees(np.pi/2-phi[0]))\n",
    "# latitudes = np.degrees(phi)\n",
    "# print(latitudes[0])\n",
    "# print(\"Latitud Convertida: \",latitudes)\n"
   ]
  },
  {
   "cell_type": "code",
   "execution_count": 58,
   "metadata": {},
   "outputs": [
    {
     "name": "stdout",
     "output_type": "stream",
     "text": [
      "[-63.40000837 -63.35495354 -63.35204078 -63.31279865 -63.08600905\n",
      " -62.74866186 -62.38797862 -62.027243   -61.66648297 -61.30572645\n",
      " -60.94500408 -60.58434484 -60.22377295 -59.86331779 -59.50301082\n",
      " -59.14287564 -58.78294537 -58.42325105 -58.06382994 -57.70469611\n",
      " -57.3458773  -56.98740392 -56.62930218 -56.2715972  -55.91431787\n",
      " -55.55748333 -55.20111055 -54.84522562 -54.48985719 -54.13503124\n",
      " -53.78077572 -53.42711814 -53.07408409 -52.72170428 -52.3700463\n",
      " -52.01909358 -51.6688657  -51.31938479 -50.97067321 -50.62275113\n",
      " -50.27564009 -49.92936243 -49.58393897 -49.23938925 -48.89573283\n",
      " -48.55298928 -48.21118106 -47.87033423 -47.53045315 -47.1915285\n",
      " -46.85347937 -46.51618155 -46.17946802 -45.84312115 -45.50690281\n",
      " -45.17064556 -44.83415298 -44.49725742 -44.1598351  -43.82182198\n",
      " -43.48320811 -43.14400218 -42.80421817 -42.46387129 -42.12298152\n",
      " -41.78157058 -41.43965245 -41.09722102 -40.75433342 -40.4110092\n",
      " -40.06727309 -39.72314788 -39.37866025 -39.03383422 -38.68869565\n",
      " -38.34327094 -37.99758793 -37.65167849 -37.30556496 -36.95925388\n",
      " -36.61276987 -36.26613591 -35.91937973 -35.57252109 -35.22559105\n",
      " -34.87861516 -34.53161847 -34.18462862 -33.83766898 -33.49076605\n",
      " -33.14394405 -32.79722698 -32.45064145 -32.15447442 -32.0078316\n",
      " -31.99666393 -31.96070071 -31.95592309 -31.95575306 -31.95558303]\n"
     ]
    }
   ],
   "source": [
    "# longitud\n",
    "print(Y1_lon)\n",
    "# print(-np.degrees(theta))"
   ]
  },
  {
   "cell_type": "code",
   "execution_count": null,
   "metadata": {},
   "outputs": [],
   "source": []
  },
  {
   "cell_type": "code",
   "execution_count": 59,
   "metadata": {},
   "outputs": [],
   "source": [
    "X1_lat = lat[0]\n",
    "Y1_lon = lon[0]\n",
    "Z1_h = heights[0]\n"
   ]
  },
  {
   "cell_type": "code",
   "execution_count": null,
   "metadata": {},
   "outputs": [],
   "source": []
  },
  {
   "cell_type": "code",
   "execution_count": null,
   "metadata": {},
   "outputs": [],
   "source": [
    "\n"
   ]
  }
 ],
 "metadata": {
  "kernelspec": {
   "display_name": "Python 3",
   "language": "python",
   "name": "python3"
  },
  "language_info": {
   "codemirror_mode": {
    "name": "ipython",
    "version": 3
   },
   "file_extension": ".py",
   "mimetype": "text/x-python",
   "name": "python",
   "nbconvert_exporter": "python",
   "pygments_lexer": "ipython3",
   "version": "3.12.5"
  }
 },
 "nbformat": 4,
 "nbformat_minor": 2
}
