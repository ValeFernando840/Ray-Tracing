{
 "cells": [
  {
   "cell_type": "markdown",
   "metadata": {},
   "source": [
    "Aquí lo que hicimos fue generar un nuevo Dataset a partir de nuevas coordenadas cambiando Latitud Longitud y Altura por X Y y Z\n",
    "Es decir por coordenadas Cartesianas."
   ]
  },
  {
   "cell_type": "code",
   "execution_count": 1,
   "metadata": {},
   "outputs": [],
   "source": [
    "import pandas as pd\n",
    "import numpy as np\n",
    "import matplotlib.pyplot as plt\n",
    "from Utils import geo_conversions as gc"
   ]
  },
  {
   "cell_type": "code",
   "execution_count": 2,
   "metadata": {},
   "outputs": [],
   "source": [
    "df = pd.read_excel(\"NuevoExcelCompleto_para_ver.xlsx\")"
   ]
  },
  {
   "cell_type": "code",
   "execution_count": 3,
   "metadata": {},
   "outputs": [],
   "source": [
    "lat_columns = [f'lat_{i}' for i in range(1,101)]\n",
    "lon_columns = [f'long_{i}' for i in range(1,101)]\n",
    "height_columns = [f'elev_{i}' for i in range(1,101)]"
   ]
  },
  {
   "cell_type": "code",
   "execution_count": 4,
   "metadata": {},
   "outputs": [],
   "source": [
    "df_lat = df[lat_columns]\n",
    "df_lon = df[lon_columns]\n",
    "df_heights = df[height_columns]\n",
    "\n",
    "lat = df_lat.to_numpy()\n",
    "lon = df_lon.to_numpy()\n",
    "heights = df_heights.to_numpy()"
   ]
  },
  {
   "cell_type": "code",
   "execution_count": 5,
   "metadata": {},
   "outputs": [
    {
     "name": "stdout",
     "output_type": "stream",
     "text": [
      "Ingresa => Latitud :-42.28266974107886, Longitud:-63.37433196229574, Altura:0.1866418087121212\n",
      "Transf coord Cartesiana x1:-0.7848185428768487, y1:0.7136961151506414, z:0.5318049380732719\n",
      "phi_1: -0.7379718035152043,  theta_1: -1.1060907539939395, rho_1: 1.186641808712121[m] \n",
      "lat_1: -42.282669741078855,  long_1: -63.37433196229574, en radianes rho_1: 1.186641808712121 [m]\n"
     ]
    }
   ],
   "source": [
    "X1_lat = lat[100]\n",
    "Y1_lon = lon[100]\n",
    "Z1_h = heights[100]/1000\n",
    "print(f'Ingresa => Latitud :{X1_lat[1]}, Longitud:{Y1_lon[1]}, Altura:{Z1_h[1]}')\n",
    "x1,y1,z1 = gc.transform_coords_cartesian(X1_lat,Y1_lon,Z1_h)\n",
    "print(f'Transf coord Cartesiana x1:{x1[1]}, y1:{y1[1]}, z:{z1[1]}')\n",
    "phi_n, theta_n, rho_n = gc.transform_cartesian_to_spherical(x1,y1,z1)\n",
    "print(f'phi_1: {phi_n[1]},  theta_1: {theta_n[1]}, rho_1: {rho_n[1]}[m] ')\n",
    "print(f'lat_1: {np.degrees(phi_n[1])},  long_1: {np.degrees(theta_n[1])}, en radianes rho_1: {rho_n[1]} [m]')\n",
    "\n"
   ]
  },
  {
   "cell_type": "code",
   "execution_count": 6,
   "metadata": {},
   "outputs": [
    {
     "data": {
      "image/png": "[encoded data removed]",
      "text/plain": [
       "<Figure size 1500x600 with 1 Axes>"
      ]
     },
     "metadata": {},
     "output_type": "display_data"
    }
   ],
   "source": [
    "#graficar\n",
    "# Graf. Alturas\n",
    "plt.figure(figsize=(15,6))\n",
    "plt.plot(y1, label = \"X\",linestyle= 'None', marker = '.')\n",
    "plt.title(\"coodenadas X\")\n",
    "plt.legend()\n",
    "plt.show()"
   ]
  },
  {
   "cell_type": "code",
   "execution_count": null,
   "metadata": {},
   "outputs": [],
   "source": []
  },
  {
   "cell_type": "code",
   "execution_count": 7,
   "metadata": {},
   "outputs": [
    {
     "data": {
      "text/html": [
       "<div>\n",
       "<style scoped>\n",
       "    .dataframe tbody tr th:only-of-type {\n",
       "        vertical-align: middle;\n",
       "    }\n",
       "\n",
       "    .dataframe tbody tr th {\n",
       "        vertical-align: top;\n",
       "    }\n",
       "\n",
       "    .dataframe thead th {\n",
       "        text-align: right;\n",
       "    }\n",
       "</style>\n",
       "<table border=\"1\" class=\"dataframe\">\n",
       "  <thead>\n",
       "    <tr style=\"text-align: right;\">\n",
       "      <th></th>\n",
       "      <th>latitude_pos_tx</th>\n",
       "      <th>longitude_pos_tx</th>\n",
       "      <th>elevation_pos_tx</th>\n",
       "      <th>fc [Mhz]</th>\n",
       "      <th>elevation</th>\n",
       "      <th>azimuth</th>\n",
       "      <th>year</th>\n",
       "      <th>mmdd</th>\n",
       "      <th>UTI</th>\n",
       "      <th>hour</th>\n",
       "      <th>...</th>\n",
       "      <th>z_91</th>\n",
       "      <th>z_92</th>\n",
       "      <th>z_93</th>\n",
       "      <th>z_94</th>\n",
       "      <th>z_95</th>\n",
       "      <th>z_96</th>\n",
       "      <th>z_97</th>\n",
       "      <th>z_98</th>\n",
       "      <th>z_99</th>\n",
       "      <th>z_100</th>\n",
       "    </tr>\n",
       "  </thead>\n",
       "  <tbody>\n",
       "    <tr>\n",
       "      <th>0</th>\n",
       "      <td>-42.28</td>\n",
       "      <td>-63.4</td>\n",
       "      <td>0</td>\n",
       "      <td>10.0</td>\n",
       "      <td>5</td>\n",
       "      <td>98</td>\n",
       "      <td>2010</td>\n",
       "      <td>101</td>\n",
       "      <td>0</td>\n",
       "      <td>0</td>\n",
       "      <td>...</td>\n",
       "      <td>13.550145</td>\n",
       "      <td>9.744914</td>\n",
       "      <td>6.025632</td>\n",
       "      <td>2.905997</td>\n",
       "      <td>1.384384</td>\n",
       "      <td>1.270951</td>\n",
       "      <td>0.900947</td>\n",
       "      <td>0.851983</td>\n",
       "      <td>0.850403</td>\n",
       "      <td>0.848459</td>\n",
       "    </tr>\n",
       "    <tr>\n",
       "      <th>1</th>\n",
       "      <td>-42.28</td>\n",
       "      <td>-63.4</td>\n",
       "      <td>0</td>\n",
       "      <td>10.0</td>\n",
       "      <td>5</td>\n",
       "      <td>98</td>\n",
       "      <td>2010</td>\n",
       "      <td>101</td>\n",
       "      <td>0</td>\n",
       "      <td>4</td>\n",
       "      <td>...</td>\n",
       "      <td>9.496748</td>\n",
       "      <td>6.825483</td>\n",
       "      <td>4.277719</td>\n",
       "      <td>1.855211</td>\n",
       "      <td>1.310479</td>\n",
       "      <td>1.283431</td>\n",
       "      <td>1.015714</td>\n",
       "      <td>0.912601</td>\n",
       "      <td>0.891876</td>\n",
       "      <td>0.873631</td>\n",
       "    </tr>\n",
       "    <tr>\n",
       "      <th>2</th>\n",
       "      <td>-42.28</td>\n",
       "      <td>-63.4</td>\n",
       "      <td>0</td>\n",
       "      <td>10.0</td>\n",
       "      <td>5</td>\n",
       "      <td>98</td>\n",
       "      <td>2010</td>\n",
       "      <td>101</td>\n",
       "      <td>0</td>\n",
       "      <td>8</td>\n",
       "      <td>...</td>\n",
       "      <td>2.171107</td>\n",
       "      <td>1.518635</td>\n",
       "      <td>1.267409</td>\n",
       "      <td>1.268296</td>\n",
       "      <td>1.176972</td>\n",
       "      <td>1.048163</td>\n",
       "      <td>0.883362</td>\n",
       "      <td>0.709809</td>\n",
       "      <td>0.692949</td>\n",
       "      <td>0.692772</td>\n",
       "    </tr>\n",
       "    <tr>\n",
       "      <th>3</th>\n",
       "      <td>-42.28</td>\n",
       "      <td>-63.4</td>\n",
       "      <td>0</td>\n",
       "      <td>10.0</td>\n",
       "      <td>5</td>\n",
       "      <td>98</td>\n",
       "      <td>2010</td>\n",
       "      <td>101</td>\n",
       "      <td>0</td>\n",
       "      <td>12</td>\n",
       "      <td>...</td>\n",
       "      <td>0.724955</td>\n",
       "      <td>0.725855</td>\n",
       "      <td>0.727602</td>\n",
       "      <td>0.730295</td>\n",
       "      <td>0.731362</td>\n",
       "      <td>0.731362</td>\n",
       "      <td>0.723035</td>\n",
       "      <td>0.711719</td>\n",
       "      <td>0.700401</td>\n",
       "      <td>0.689083</td>\n",
       "    </tr>\n",
       "    <tr>\n",
       "      <th>4</th>\n",
       "      <td>-42.28</td>\n",
       "      <td>-63.4</td>\n",
       "      <td>0</td>\n",
       "      <td>10.0</td>\n",
       "      <td>5</td>\n",
       "      <td>98</td>\n",
       "      <td>2010</td>\n",
       "      <td>101</td>\n",
       "      <td>0</td>\n",
       "      <td>16</td>\n",
       "      <td>...</td>\n",
       "      <td>1.119523</td>\n",
       "      <td>1.120444</td>\n",
       "      <td>1.076734</td>\n",
       "      <td>0.943677</td>\n",
       "      <td>0.827124</td>\n",
       "      <td>0.727118</td>\n",
       "      <td>0.693521</td>\n",
       "      <td>0.693153</td>\n",
       "      <td>0.692785</td>\n",
       "      <td>0.692417</td>\n",
       "    </tr>\n",
       "  </tbody>\n",
       "</table>\n",
       "<p>5 rows × 313 columns</p>\n",
       "</div>"
      ],
      "text/plain": [
       "   latitude_pos_tx  longitude_pos_tx  elevation_pos_tx  fc [Mhz]  elevation  \\\n",
       "0           -42.28             -63.4                 0      10.0          5   \n",
       "1           -42.28             -63.4                 0      10.0          5   \n",
       "2           -42.28             -63.4                 0      10.0          5   \n",
       "3           -42.28             -63.4                 0      10.0          5   \n",
       "4           -42.28             -63.4                 0      10.0          5   \n",
       "\n",
       "   azimuth  year  mmdd  UTI  hour  ...       z_91      z_92      z_93  \\\n",
       "0       98  2010   101    0     0  ...  13.550145  9.744914  6.025632   \n",
       "1       98  2010   101    0     4  ...   9.496748  6.825483  4.277719   \n",
       "2       98  2010   101    0     8  ...   2.171107  1.518635  1.267409   \n",
       "3       98  2010   101    0    12  ...   0.724955  0.725855  0.727602   \n",
       "4       98  2010   101    0    16  ...   1.119523  1.120444  1.076734   \n",
       "\n",
       "       z_94      z_95      z_96      z_97      z_98      z_99     z_100  \n",
       "0  2.905997  1.384384  1.270951  0.900947  0.851983  0.850403  0.848459  \n",
       "1  1.855211  1.310479  1.283431  1.015714  0.912601  0.891876  0.873631  \n",
       "2  1.268296  1.176972  1.048163  0.883362  0.709809  0.692949  0.692772  \n",
       "3  0.730295  0.731362  0.731362  0.723035  0.711719  0.700401  0.689083  \n",
       "4  0.943677  0.827124  0.727118  0.693521  0.693153  0.692785  0.692417  \n",
       "\n",
       "[5 rows x 313 columns]"
      ]
     },
     "execution_count": 7,
     "metadata": {},
     "output_type": "execute_result"
    }
   ],
   "source": [
    "df['fc'] = df['fc']/1E6\n",
    "df = df.rename(columns = {'fc': 'fc [Mhz]'})\n",
    "X_columns = [\n",
    "    'latitude_pos_tx', 'longitude_pos_tx', 'elevation_pos_tx', 'fc [Mhz]', 'elevation', \n",
    "    'azimuth', 'year', 'mmdd', 'UTI', 'hour', 'delay', 'terrestrial_range', 'slant_range'\n",
    "]\n",
    "df_x = df[X_columns]\n",
    "\n",
    "x,y,z = zip(*(map(lambda args: np.array(gc.transform_coords_cartesian(*args)), zip(lat, lon, heights/1000))))\n",
    "# divido la altura en 1000 para que esten en km ya que estan en m\n",
    "\n",
    "# genero el dataset para agregar \n",
    "x_columns = [f'x_{i}' for i in range(1,101)]\n",
    "y_columns = [f'y_{i}' for i in range(1,101)]\n",
    "z_columns = [f'z_{i}' for i in range(1,101)]\n",
    "x_df = pd.DataFrame(x,columns= x_columns)\n",
    "y_df = pd.DataFrame(y,columns = y_columns)\n",
    "z_df = pd.DataFrame(z,columns = z_columns)\n",
    "coord_df = pd.concat([df_x,x_df,y_df,z_df], axis = 1)\n",
    "\n",
    "coord_df.head()"
   ]
  },
  {
   "cell_type": "code",
   "execution_count": 8,
   "metadata": {},
   "outputs": [
    {
     "name": "stdout",
     "output_type": "stream",
     "text": [
      "['x_1', 'x_2', 'x_3', 'x_4', 'x_5', 'x_6', 'x_7', 'x_8', 'x_9', 'x_10', 'x_11', 'x_12', 'x_13', 'x_14', 'x_15', 'x_16', 'x_17', 'x_18', 'x_19', 'x_20', 'x_21', 'x_22', 'x_23', 'x_24', 'x_25', 'x_26', 'x_27', 'x_28', 'x_29', 'x_30', 'x_31', 'x_32', 'x_33', 'x_34', 'x_35', 'x_36', 'x_37', 'x_38', 'x_39', 'x_40', 'x_41', 'x_42', 'x_43', 'x_44', 'x_45', 'x_46', 'x_47', 'x_48', 'x_49', 'x_50', 'x_51', 'x_52', 'x_53', 'x_54', 'x_55', 'x_56', 'x_57', 'x_58', 'x_59', 'x_60', 'x_61', 'x_62', 'x_63', 'x_64', 'x_65', 'x_66', 'x_67', 'x_68', 'x_69', 'x_70', 'x_71', 'x_72', 'x_73', 'x_74', 'x_75', 'x_76', 'x_77', 'x_78', 'x_79', 'x_80', 'x_81', 'x_82', 'x_83', 'x_84', 'x_85', 'x_86', 'x_87', 'x_88', 'x_89', 'x_90', 'x_91', 'x_92', 'x_93', 'x_94', 'x_95', 'x_96', 'x_97', 'x_98', 'x_99', 'x_100']\n"
     ]
    }
   ],
   "source": [
    "z_columns = [f'z_{i}' for i in range(1,101)]\n",
    "type(z_columns)\n",
    "print(x_columns)"
   ]
  },
  {
   "cell_type": "code",
   "execution_count": 9,
   "metadata": {},
   "outputs": [],
   "source": [
    "# Aquí la se realiza el guardado del nuevo dataset \n",
    "# coord_df.to_excel('dataset/dataset-with-coord-cartesian.xlsx', index = False)"
   ]
  },
  {
   "cell_type": "code",
   "execution_count": null,
   "metadata": {},
   "outputs": [],
   "source": []
  }
 ],
 "metadata": {
  "kernelspec": {
   "display_name": "venv",
   "language": "python",
   "name": "python3"
  },
  "language_info": {
   "codemirror_mode": {
    "name": "ipython",
    "version": 3
   },
   "file_extension": ".py",
   "mimetype": "text/x-python",
   "name": "python",
   "nbconvert_exporter": "python",
   "pygments_lexer": "ipython3",
   "version": "3.12.1"
  }
 },
 "nbformat": 4,
 "nbformat_minor": 2
}
