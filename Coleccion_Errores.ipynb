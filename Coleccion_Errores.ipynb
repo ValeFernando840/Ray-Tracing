{
 "cells": [
  {
   "cell_type": "code",
   "execution_count": 37,
   "metadata": {},
   "outputs": [],
   "source": [
    "import tensorflow as tf\n",
    "import matplotlib.pyplot as plt\n",
    "import numpy as np\n",
    "import pandas as pd\n",
    "import utils_nn as utlnn\n"
   ]
  },
  {
   "cell_type": "markdown",
   "metadata": {},
   "source": [
    "## Uso de funciones Personalizadas cont tf.map_fn\n",
    "Al tener funciones personalizadas, podemos usar tf.map_fn para aplicar a cada elemento del tensor."
   ]
  },
  {
   "cell_type": "code",
   "execution_count": 38,
   "metadata": {},
   "outputs": [],
   "source": [
    "x_test = pd.read_csv(\"./Train_Test/x_test.csv\")\n",
    "y_test = pd.read_csv(\"./Train_Test/y_test.csv\")\n",
    "\n",
    "autoencoder_Lat_Lon = tf.keras.models.load_model('modelos_entrenamiento/modelos_latitudes_longitudes/entrenamiento_lat_lon_600_120.keras')\n",
    "autoencoder_Height = tf.keras.models.load_model('modelos_entrenamiento/entrenamiento_alturas2.keras')"
   ]
  },
  {
   "cell_type": "code",
   "execution_count": 39,
   "metadata": {},
   "outputs": [
    {
     "name": "stdout",
     "output_type": "stream",
     "text": [
      "\u001b[1m33/33\u001b[0m \u001b[32m━━━━━━━━━━━━━━━━━━━━\u001b[0m\u001b[37m\u001b[0m \u001b[1m0s\u001b[0m 4ms/step\n",
      "\u001b[1m33/33\u001b[0m \u001b[32m━━━━━━━━━━━━━━━━━━━━\u001b[0m\u001b[37m\u001b[0m \u001b[1m0s\u001b[0m 3ms/step\n"
     ]
    }
   ],
   "source": [
    "lat_pred, lon_pred = autoencoder_Lat_Lon.predict(x_test)\n",
    "height_pred = autoencoder_Height.predict(x_test)\n"
   ]
  },
  {
   "cell_type": "code",
   "execution_count": 40,
   "metadata": {},
   "outputs": [
    {
     "name": "stdout",
     "output_type": "stream",
     "text": [
      "Formatos True y Pred:  <class 'pandas.core.frame.DataFrame'> <class 'numpy.ndarray'>\n",
      "Formatos True y Pred:  <class 'numpy.ndarray'> <class 'numpy.ndarray'>\n"
     ]
    }
   ],
   "source": [
    "y_true_lat = y_test.iloc[:,:100]\n",
    "y_true_lon = y_test.iloc[:,100:200]\n",
    "y_true_height = y_test.iloc[:,200:300] #km\n",
    "print(\"Formatos True y Pred: \",type(y_true_lat), type(lat_pred))\n",
    "y_true_lat = y_true_lat.to_numpy()\n",
    "y_true_lon = y_true_lon.to_numpy()\n",
    "y_true_height = y_true_height.to_numpy()\n",
    "print(\"Formatos True y Pred: \",type(y_true_lat), type(lat_pred))\n"
   ]
  },
  {
   "cell_type": "code",
   "execution_count": 41,
   "metadata": {},
   "outputs": [
    {
     "ename": "AttributeError",
     "evalue": "'numpy.ndarray' object has no attribute 'to_numpy'",
     "output_type": "error",
     "traceback": [
      "\u001b[1;31m---------------------------------------------------------------------------\u001b[0m",
      "\u001b[1;31mAttributeError\u001b[0m                            Traceback (most recent call last)",
      "Cell \u001b[1;32mIn[41], line 2\u001b[0m\n\u001b[0;32m      1\u001b[0m \u001b[38;5;66;03m# distancias_2d= list(map(utlnn.distances_by_geodesic,zip(y_true_lat,y_true_lon,lat_pred,lon_pred)))\u001b[39;00m\n\u001b[1;32m----> 2\u001b[0m distancias_2d \u001b[38;5;241m=\u001b[39m \u001b[38;5;28;43mlist\u001b[39;49m\u001b[43m(\u001b[49m\u001b[38;5;28;43mmap\u001b[39;49m\u001b[43m(\u001b[49m\u001b[38;5;28;43;01mlambda\u001b[39;49;00m\u001b[43m \u001b[49m\u001b[43margs\u001b[49m\u001b[43m:\u001b[49m\u001b[43m \u001b[49m\u001b[43mutlnn\u001b[49m\u001b[38;5;241;43m.\u001b[39;49m\u001b[43mdistances_by_geodesic\u001b[49m\u001b[43m(\u001b[49m\u001b[38;5;241;43m*\u001b[39;49m\u001b[43margs\u001b[49m\u001b[43m)\u001b[49m\u001b[43m,\u001b[49m\u001b[43m \u001b[49m\u001b[38;5;28;43mzip\u001b[39;49m\u001b[43m(\u001b[49m\u001b[43my_true_lat\u001b[49m\u001b[43m,\u001b[49m\u001b[43m \u001b[49m\u001b[43my_true_lon\u001b[49m\u001b[43m,\u001b[49m\u001b[43m \u001b[49m\u001b[43mlat_pred\u001b[49m\u001b[43m,\u001b[49m\u001b[43m \u001b[49m\u001b[43mlon_pred\u001b[49m\u001b[43m)\u001b[49m\u001b[43m)\u001b[49m\u001b[43m)\u001b[49m\n",
      "Cell \u001b[1;32mIn[41], line 2\u001b[0m, in \u001b[0;36m<lambda>\u001b[1;34m(args)\u001b[0m\n\u001b[0;32m      1\u001b[0m \u001b[38;5;66;03m# distancias_2d= list(map(utlnn.distances_by_geodesic,zip(y_true_lat,y_true_lon,lat_pred,lon_pred)))\u001b[39;00m\n\u001b[1;32m----> 2\u001b[0m distancias_2d \u001b[38;5;241m=\u001b[39m \u001b[38;5;28mlist\u001b[39m(\u001b[38;5;28mmap\u001b[39m(\u001b[38;5;28;01mlambda\u001b[39;00m args: \u001b[43mutlnn\u001b[49m\u001b[38;5;241;43m.\u001b[39;49m\u001b[43mdistances_by_geodesic\u001b[49m\u001b[43m(\u001b[49m\u001b[38;5;241;43m*\u001b[39;49m\u001b[43margs\u001b[49m\u001b[43m)\u001b[49m, \u001b[38;5;28mzip\u001b[39m(y_true_lat, y_true_lon, lat_pred, lon_pred)))\n",
      "File \u001b[1;32mc:\\Users\\Alexis\\Desktop\\FACULTAD\\Ray_Tracing-main\\utils_nn.py:27\u001b[0m, in \u001b[0;36mdistances_by_geodesic\u001b[1;34m(lat_true, lon_true, lat_pred, lon_pred)\u001b[0m\n\u001b[0;32m     26\u001b[0m \u001b[38;5;28;01mdef\u001b[39;00m \u001b[38;5;21mdistances_by_geodesic\u001b[39m(lat_true,lon_true,lat_pred,lon_pred):\n\u001b[1;32m---> 27\u001b[0m   \u001b[38;5;28;01mif\u001b[39;00m \u001b[38;5;28misinstance\u001b[39m(lat_true,pd\u001b[38;5;241m.\u001b[39mDataFrame):\n\u001b[0;32m     28\u001b[0m     lat_true \u001b[38;5;241m=\u001b[39m lat_true\u001b[38;5;241m.\u001b[39mto_numpy()\n\u001b[0;32m     29\u001b[0m   \u001b[38;5;28;01mif\u001b[39;00m \u001b[38;5;28misinstance\u001b[39m(lon_true,pd\u001b[38;5;241m.\u001b[39mDataFrame):\n",
      "\u001b[1;31mAttributeError\u001b[0m: 'numpy.ndarray' object has no attribute 'to_numpy'"
     ]
    }
   ],
   "source": [
    "# distancias_2d= list(map(utlnn.distances_by_geodesic,zip(y_true_lat,y_true_lon,lat_pred,lon_pred)))\n",
    "distancias_2d = list(map(lambda args: utlnn.distances_by_geodesic(*args), zip(y_true_lat, y_true_lon, lat_pred, lon_pred)))"
   ]
  },
  {
   "cell_type": "code",
   "execution_count": null,
   "metadata": {},
   "outputs": [
    {
     "name": "stdout",
     "output_type": "stream",
     "text": [
      "<class 'pandas.core.frame.DataFrame'> <class 'numpy.ndarray'>\n"
     ]
    },
    {
     "data": {
      "text/html": [
       "<div>\n",
       "<style scoped>\n",
       "    .dataframe tbody tr th:only-of-type {\n",
       "        vertical-align: middle;\n",
       "    }\n",
       "\n",
       "    .dataframe tbody tr th {\n",
       "        vertical-align: top;\n",
       "    }\n",
       "\n",
       "    .dataframe thead th {\n",
       "        text-align: right;\n",
       "    }\n",
       "</style>\n",
       "<table border=\"1\" class=\"dataframe\">\n",
       "  <thead>\n",
       "    <tr style=\"text-align: right;\">\n",
       "      <th></th>\n",
       "      <th>lat_1</th>\n",
       "      <th>lat_2</th>\n",
       "      <th>lat_3</th>\n",
       "      <th>lat_4</th>\n",
       "      <th>lat_5</th>\n",
       "      <th>lat_6</th>\n",
       "      <th>lat_7</th>\n",
       "      <th>lat_8</th>\n",
       "      <th>lat_9</th>\n",
       "      <th>lat_10</th>\n",
       "      <th>...</th>\n",
       "      <th>lat_91</th>\n",
       "      <th>lat_92</th>\n",
       "      <th>lat_93</th>\n",
       "      <th>lat_94</th>\n",
       "      <th>lat_95</th>\n",
       "      <th>lat_96</th>\n",
       "      <th>lat_97</th>\n",
       "      <th>lat_98</th>\n",
       "      <th>lat_99</th>\n",
       "      <th>lat_100</th>\n",
       "    </tr>\n",
       "  </thead>\n",
       "  <tbody>\n",
       "    <tr>\n",
       "      <th>0</th>\n",
       "      <td>-42.28</td>\n",
       "      <td>-42.280740</td>\n",
       "      <td>-42.281479</td>\n",
       "      <td>-42.282218</td>\n",
       "      <td>-42.282958</td>\n",
       "      <td>-42.283697</td>\n",
       "      <td>-42.284285</td>\n",
       "      <td>-42.284833</td>\n",
       "      <td>-42.285381</td>\n",
       "      <td>-42.285929</td>\n",
       "      <td>...</td>\n",
       "      <td>-42.217019</td>\n",
       "      <td>-42.214879</td>\n",
       "      <td>-42.212740</td>\n",
       "      <td>-42.210601</td>\n",
       "      <td>-42.208431</td>\n",
       "      <td>-42.206144</td>\n",
       "      <td>-42.203858</td>\n",
       "      <td>-42.201572</td>\n",
       "      <td>-42.199286</td>\n",
       "      <td>-42.197000</td>\n",
       "    </tr>\n",
       "    <tr>\n",
       "      <th>1</th>\n",
       "      <td>-42.28</td>\n",
       "      <td>-42.282720</td>\n",
       "      <td>-42.284985</td>\n",
       "      <td>-42.284978</td>\n",
       "      <td>-42.285874</td>\n",
       "      <td>-42.288579</td>\n",
       "      <td>-42.297927</td>\n",
       "      <td>-42.313917</td>\n",
       "      <td>-42.333036</td>\n",
       "      <td>-42.353721</td>\n",
       "      <td>...</td>\n",
       "      <td>-42.769901</td>\n",
       "      <td>-42.769894</td>\n",
       "      <td>-42.769484</td>\n",
       "      <td>-42.768270</td>\n",
       "      <td>-42.767513</td>\n",
       "      <td>-42.767215</td>\n",
       "      <td>-42.767096</td>\n",
       "      <td>-42.767066</td>\n",
       "      <td>-42.767036</td>\n",
       "      <td>-42.767007</td>\n",
       "    </tr>\n",
       "    <tr>\n",
       "      <th>2</th>\n",
       "      <td>-42.28</td>\n",
       "      <td>-42.278190</td>\n",
       "      <td>-42.276380</td>\n",
       "      <td>-42.274569</td>\n",
       "      <td>-42.272759</td>\n",
       "      <td>-42.270940</td>\n",
       "      <td>-42.268950</td>\n",
       "      <td>-42.266960</td>\n",
       "      <td>-42.264971</td>\n",
       "      <td>-42.262981</td>\n",
       "      <td>...</td>\n",
       "      <td>-41.990593</td>\n",
       "      <td>-41.985965</td>\n",
       "      <td>-41.981337</td>\n",
       "      <td>-41.976709</td>\n",
       "      <td>-41.972081</td>\n",
       "      <td>-41.971816</td>\n",
       "      <td>-41.971780</td>\n",
       "      <td>-41.971744</td>\n",
       "      <td>-41.971708</td>\n",
       "      <td>-41.971672</td>\n",
       "    </tr>\n",
       "    <tr>\n",
       "      <th>3</th>\n",
       "      <td>-42.28</td>\n",
       "      <td>-42.282670</td>\n",
       "      <td>-42.284986</td>\n",
       "      <td>-42.284978</td>\n",
       "      <td>-42.285674</td>\n",
       "      <td>-42.288329</td>\n",
       "      <td>-42.296150</td>\n",
       "      <td>-42.311844</td>\n",
       "      <td>-42.329972</td>\n",
       "      <td>-42.350273</td>\n",
       "      <td>...</td>\n",
       "      <td>-42.758415</td>\n",
       "      <td>-42.757172</td>\n",
       "      <td>-42.756509</td>\n",
       "      <td>-42.756494</td>\n",
       "      <td>-42.756077</td>\n",
       "      <td>-42.755397</td>\n",
       "      <td>-42.755148</td>\n",
       "      <td>-42.755053</td>\n",
       "      <td>-42.754958</td>\n",
       "      <td>-42.754863</td>\n",
       "    </tr>\n",
       "    <tr>\n",
       "      <th>4</th>\n",
       "      <td>-42.28</td>\n",
       "      <td>-42.284483</td>\n",
       "      <td>-42.284976</td>\n",
       "      <td>-42.288429</td>\n",
       "      <td>-42.307402</td>\n",
       "      <td>-42.338016</td>\n",
       "      <td>-42.371590</td>\n",
       "      <td>-42.404114</td>\n",
       "      <td>-42.435583</td>\n",
       "      <td>-42.466004</td>\n",
       "      <td>...</td>\n",
       "      <td>-41.561871</td>\n",
       "      <td>-41.509278</td>\n",
       "      <td>-41.455672</td>\n",
       "      <td>-41.415043</td>\n",
       "      <td>-41.400033</td>\n",
       "      <td>-41.396930</td>\n",
       "      <td>-41.390984</td>\n",
       "      <td>-41.387808</td>\n",
       "      <td>-41.387785</td>\n",
       "      <td>-41.387773</td>\n",
       "    </tr>\n",
       "  </tbody>\n",
       "</table>\n",
       "<p>5 rows × 100 columns</p>\n",
       "</div>"
      ],
      "text/plain": [
       "   lat_1      lat_2      lat_3      lat_4      lat_5      lat_6      lat_7  \\\n",
       "0 -42.28 -42.280740 -42.281479 -42.282218 -42.282958 -42.283697 -42.284285   \n",
       "1 -42.28 -42.282720 -42.284985 -42.284978 -42.285874 -42.288579 -42.297927   \n",
       "2 -42.28 -42.278190 -42.276380 -42.274569 -42.272759 -42.270940 -42.268950   \n",
       "3 -42.28 -42.282670 -42.284986 -42.284978 -42.285674 -42.288329 -42.296150   \n",
       "4 -42.28 -42.284483 -42.284976 -42.288429 -42.307402 -42.338016 -42.371590   \n",
       "\n",
       "       lat_8      lat_9     lat_10  ...     lat_91     lat_92     lat_93  \\\n",
       "0 -42.284833 -42.285381 -42.285929  ... -42.217019 -42.214879 -42.212740   \n",
       "1 -42.313917 -42.333036 -42.353721  ... -42.769901 -42.769894 -42.769484   \n",
       "2 -42.266960 -42.264971 -42.262981  ... -41.990593 -41.985965 -41.981337   \n",
       "3 -42.311844 -42.329972 -42.350273  ... -42.758415 -42.757172 -42.756509   \n",
       "4 -42.404114 -42.435583 -42.466004  ... -41.561871 -41.509278 -41.455672   \n",
       "\n",
       "      lat_94     lat_95     lat_96     lat_97     lat_98     lat_99    lat_100  \n",
       "0 -42.210601 -42.208431 -42.206144 -42.203858 -42.201572 -42.199286 -42.197000  \n",
       "1 -42.768270 -42.767513 -42.767215 -42.767096 -42.767066 -42.767036 -42.767007  \n",
       "2 -41.976709 -41.972081 -41.971816 -41.971780 -41.971744 -41.971708 -41.971672  \n",
       "3 -42.756494 -42.756077 -42.755397 -42.755148 -42.755053 -42.754958 -42.754863  \n",
       "4 -41.415043 -41.400033 -41.396930 -41.390984 -41.387808 -41.387785 -41.387773  \n",
       "\n",
       "[5 rows x 100 columns]"
      ]
     },
     "execution_count": 9,
     "metadata": {},
     "output_type": "execute_result"
    }
   ],
   "source": [
    "print(type(y_true_lat), type(lat_pred))\n",
    "y_true_lat.head()"
   ]
  },
  {
   "cell_type": "code",
   "execution_count": null,
   "metadata": {},
   "outputs": [],
   "source": [
    "distancia2d = utlnn.haversine_distance(y_true_lat,y_true_lon,lat_pred,lon_pred)"
   ]
  },
  {
   "cell_type": "code",
   "execution_count": null,
   "metadata": {},
   "outputs": [
    {
     "data": {
      "text/plain": [
       "array([[-42.28000045, -42.28073977, -42.28147908, ..., -42.20157222,\n",
       "        -42.1992861 , -42.19699999],\n",
       "       [-42.28000045, -42.28272011, -42.28498524, ..., -42.76706621,\n",
       "        -42.7670364 , -42.7670066 ],\n",
       "       [-42.28000045, -42.27819011, -42.27637976, ..., -41.9717438 ,\n",
       "        -41.97170792, -41.97167205],\n",
       "       ...,\n",
       "       [-42.28000045, -42.28463394, -42.28497476, ..., -41.06043416,\n",
       "        -41.05974866, -41.05906315],\n",
       "       [-42.28000045, -42.28493612, -42.2849731 , ..., -40.86099884,\n",
       "        -40.86087714, -40.86075544],\n",
       "       [-42.28000045, -42.27890403, -42.27812428, ..., -40.33287992,\n",
       "        -40.33258616, -40.33229004]])"
      ]
     },
     "execution_count": 10,
     "metadata": {},
     "output_type": "execute_result"
    }
   ],
   "source": [
    "y_true_lat.to_numpy()"
   ]
  },
  {
   "cell_type": "code",
   "execution_count": null,
   "metadata": {},
   "outputs": [],
   "source": []
  }
 ],
 "metadata": {
  "kernelspec": {
   "display_name": "venv",
   "language": "python",
   "name": "python3"
  },
  "language_info": {
   "codemirror_mode": {
    "name": "ipython",
    "version": 3
   },
   "file_extension": ".py",
   "mimetype": "text/x-python",
   "name": "python",
   "nbconvert_exporter": "python",
   "pygments_lexer": "ipython3",
   "version": "3.12.1"
  }
 },
 "nbformat": 4,
 "nbformat_minor": 2
}
