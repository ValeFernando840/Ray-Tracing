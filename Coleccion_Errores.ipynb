{
 "cells": [
  {
   "cell_type": "markdown",
   "metadata": {},
   "source": [
    "Aquí vamos a hacer una coleccion de errores para el conjunto total de test y lo vamos a guardar en un archivo excel o csv para futuras lecturas."
   ]
  },
  {
   "cell_type": "code",
   "execution_count": 1,
   "metadata": {},
   "outputs": [],
   "source": [
    "import tensorflow as tf\n",
    "import matplotlib.pyplot as plt\n",
    "import numpy as np\n",
    "import pandas as pd\n",
    "import utils_nn as utlnn\n"
   ]
  },
  {
   "cell_type": "markdown",
   "metadata": {},
   "source": [
    "**Nota**: Uso de funciones Personalizadas con tf.map_fn.\n",
    "Al tener funciones personalizadas, podemos usar tf.map_fn para aplicar a cada elemento del tensor."
   ]
  },
  {
   "cell_type": "code",
   "execution_count": 2,
   "metadata": {},
   "outputs": [],
   "source": [
    "x_test = pd.read_csv(\"./Train_Test/x_test.csv\")\n",
    "y_test = pd.read_csv(\"./Train_Test/y_test.csv\")\n",
    "\n",
    "autoencoder_Lat_Lon = tf.keras.models.load_model('modelos_entrenamiento/modelos_latitudes_longitudes/entrenamiento_lat_lon_600_120.keras')\n",
    "autoencoder_Height = tf.keras.models.load_model('modelos_entrenamiento/entrenamiento_alturas2.keras')"
   ]
  },
  {
   "cell_type": "code",
   "execution_count": 3,
   "metadata": {},
   "outputs": [
    {
     "name": "stdout",
     "output_type": "stream",
     "text": [
      "\u001b[1m33/33\u001b[0m \u001b[32m━━━━━━━━━━━━━━━━━━━━\u001b[0m\u001b[37m\u001b[0m \u001b[1m1s\u001b[0m 10ms/step\n",
      "\u001b[1m33/33\u001b[0m \u001b[32m━━━━━━━━━━━━━━━━━━━━\u001b[0m\u001b[37m\u001b[0m \u001b[1m0s\u001b[0m 4ms/step\n"
     ]
    }
   ],
   "source": [
    "lat_pred, lon_pred = autoencoder_Lat_Lon.predict(x_test)\n",
    "heights_pred = autoencoder_Height.predict(x_test)\n"
   ]
  },
  {
   "cell_type": "code",
   "execution_count": 4,
   "metadata": {},
   "outputs": [],
   "source": [
    "# lat_pred[0]"
   ]
  },
  {
   "cell_type": "code",
   "execution_count": 5,
   "metadata": {},
   "outputs": [
    {
     "name": "stdout",
     "output_type": "stream",
     "text": [
      "Formatos True y Pred:  <class 'pandas.core.frame.DataFrame'> <class 'numpy.ndarray'>\n",
      "Formatos True y Pred:  <class 'numpy.ndarray'> <class 'numpy.ndarray'>\n"
     ]
    }
   ],
   "source": [
    "y_true_lat = y_test.iloc[:,:100]\n",
    "y_true_lon = y_test.iloc[:,100:200]\n",
    "y_true_heights = y_test.iloc[:,200:300] #km\n",
    "print(\"Formatos True y Pred: \",type(y_true_lat), type(lat_pred))\n",
    "y_true_lat = y_true_lat.to_numpy()\n",
    "y_true_lon = y_true_lon.to_numpy()\n",
    "y_true_heights = y_true_heights.to_numpy()\n",
    "print(\"Formatos True y Pred: \",type(y_true_heights), type(heights_pred))\n"
   ]
  },
  {
   "cell_type": "code",
   "execution_count": 6,
   "metadata": {},
   "outputs": [],
   "source": [
    "distancias_2d = np.array(list(map(lambda args: np.array(utlnn.distances_by_geodesic(*args)), zip(y_true_lat, y_true_lon, lat_pred, lon_pred))))"
   ]
  },
  {
   "cell_type": "code",
   "execution_count": 7,
   "metadata": {},
   "outputs": [],
   "source": [
    "distancias_3d = np.array(list(map(lambda args: np.array(utlnn.distances_3D(*args)), zip(distancias_2d,y_true_heights,heights_pred))))"
   ]
  },
  {
   "cell_type": "code",
   "execution_count": 8,
   "metadata": {},
   "outputs": [],
   "source": [
    "error_2d = np.array(list(map(lambda args: np.array(utlnn.ecm_recm(args)),distancias_2d)))"
   ]
  },
  {
   "cell_type": "code",
   "execution_count": 9,
   "metadata": {},
   "outputs": [],
   "source": [
    "error_3d =  np.array(list(map(lambda args: np.array(utlnn.ecm_recm(args)),distancias_3d)))"
   ]
  },
  {
   "cell_type": "code",
   "execution_count": 10,
   "metadata": {},
   "outputs": [],
   "source": [
    "save_errors = True\n",
    "name = \"error_mod_lat_lon_600_120_alturas2\"\n",
    "if save_errors == True:\n",
    "  utlnn.save_errors(distancias_2d,error_2d,distancias_3d,error_3d,name)"
   ]
  },
  {
   "cell_type": "code",
   "execution_count": null,
   "metadata": {},
   "outputs": [],
   "source": []
  },
  {
   "cell_type": "code",
   "execution_count": null,
   "metadata": {},
   "outputs": [],
   "source": []
  }
 ],
 "metadata": {
  "kernelspec": {
   "display_name": "venv",
   "language": "python",
   "name": "python3"
  },
  "language_info": {
   "codemirror_mode": {
    "name": "ipython",
    "version": 3
   },
   "file_extension": ".py",
   "mimetype": "text/x-python",
   "name": "python",
   "nbconvert_exporter": "python",
   "pygments_lexer": "ipython3",
   "version": "3.12.1"
  }
 },
 "nbformat": 4,
 "nbformat_minor": 2
}
