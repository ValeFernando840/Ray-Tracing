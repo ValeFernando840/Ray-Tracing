{
 "cells": [
  {
   "cell_type": "code",
   "execution_count": 1,
   "metadata": {},
   "outputs": [],
   "source": [
    "import tensorflow as tf\n",
    "import matplotlib.pyplot as plt\n",
    "import numpy as np\n",
    "import pandas as pd\n",
    "import utils_nn as utlnn\n"
   ]
  },
  {
   "cell_type": "markdown",
   "metadata": {},
   "source": [
    "## Uso de funciones Personalizadas cont tf.map_fn\n",
    "Al tener funciones personalizadas, podemos usar tf.map_fn para aplicar a cada elemento del tensor."
   ]
  },
  {
   "cell_type": "code",
   "execution_count": 2,
   "metadata": {},
   "outputs": [],
   "source": [
    "x_test = pd.read_csv(\"./Train_Test/x_test.csv\")\n",
    "y_test = pd.read_csv(\"./Train_Test/y_test.csv\")\n",
    "\n",
    "autoencoder_Lat_Lon = tf.keras.models.load_model('modelos_entrenamiento/modelos_latitudes_longitudes/entrenamiento_lat_lon_600_120.keras')\n",
    "autoencoder_Height = tf.keras.models.load_model('modelos_entrenamiento/entrenamiento_alturas2.keras')"
   ]
  },
  {
   "cell_type": "code",
   "execution_count": null,
   "metadata": {},
   "outputs": [
    {
     "name": "stdout",
     "output_type": "stream",
     "text": [
      "\u001b[1m33/33\u001b[0m \u001b[32m━━━━━━━━━━━━━━━━━━━━\u001b[0m\u001b[37m\u001b[0m \u001b[1m0s\u001b[0m 7ms/step\n",
      "\u001b[1m33/33\u001b[0m \u001b[32m━━━━━━━━━━━━━━━━━━━━\u001b[0m\u001b[37m\u001b[0m \u001b[1m0s\u001b[0m 3ms/step\n"
     ]
    }
   ],
   "source": [
    "lat_pred, lon_pred = autoencoder_Lat_Lon.predict(x_test)\n",
    "height_pred = autoencoder_Height.predict(x_test)\n"
   ]
  },
  {
   "cell_type": "code",
   "execution_count": 4,
   "metadata": {},
   "outputs": [
    {
     "name": "stdout",
     "output_type": "stream",
     "text": [
      "Formatos True y Pred:  <class 'pandas.core.frame.DataFrame'> <class 'numpy.ndarray'>\n",
      "Formatos True y Pred:  <class 'numpy.ndarray'> <class 'numpy.ndarray'>\n"
     ]
    }
   ],
   "source": [
    "y_true_lat = y_test.iloc[:,:100]\n",
    "y_true_lon = y_test.iloc[:,100:200]\n",
    "y_true_height = y_test.iloc[:,200:300] #km\n",
    "print(\"Formatos True y Pred: \",type(y_true_lat), type(lat_pred))\n",
    "y_true_lat = y_true_lat.to_numpy()\n",
    "y_true_lon = y_true_lon.to_numpy()\n",
    "y_true_height = y_true_height.to_numpy()\n",
    "print(\"Formatos True y Pred: \",type(y_true_lat), type(lat_pred))\n"
   ]
  },
  {
   "cell_type": "code",
   "execution_count": null,
   "metadata": {},
   "outputs": [],
   "source": [
    "distancias_2d = np.array(list(map(lambda args: np.array(utlnn.distances_by_geodesic(*args)), zip(y_true_lat, y_true_lon, lat_pred, lon_pred))))"
   ]
  },
  {
   "cell_type": "code",
   "execution_count": 27,
   "metadata": {},
   "outputs": [
    {
     "name": "stdout",
     "output_type": "stream",
     "text": [
      "[ 9.13053263 13.56368761  2.32750364  9.55844824  4.36794193 17.22881261\n",
      "  9.00712572 10.38056692 20.04029248 15.90541073  2.7102068  12.7110335\n",
      " 21.98011402  6.89573507  7.6170004  31.22027428 15.91487706 10.65131627\n",
      " 10.11685305  6.02565304 26.03155305  6.37794531 20.3526025  19.26476537\n",
      " 22.4612194  18.94365867 16.26637931 16.46475888 26.23756044 18.51066522\n",
      " 17.82496059 20.87323629 25.30077567 19.99658959 30.38121702 23.67908504\n",
      " 16.77407786 12.58654666 14.86357188 19.85009024 26.66402713 15.75428396\n",
      " 22.25711343 22.1365469   8.70863119 24.88740278 21.6599953  13.13754548\n",
      " 30.71169323 28.96174444 23.38294918 26.11160668 29.63989092 24.8874294\n",
      " 27.72904312 22.29664664 36.4206842  26.35361639 41.70396141 24.88308324\n",
      " 24.03763928 32.64597355 29.78574268 41.28902362 19.74467218 21.39430594\n",
      " 38.77918103 29.09534864 25.40856497 19.92754948 25.1378535  29.77335102\n",
      " 28.24496286 37.96577421 29.34331788 35.2019233  30.94118277 27.83495904\n",
      " 39.53526945 41.12097573 27.24055566 32.10429903 27.07178826 24.96476035\n",
      " 42.37798214 39.32373836 43.8888349  35.71910224 22.0809136  40.36494117\n",
      " 31.41929438 23.07214679 25.67096287 26.99538065 40.3422064  36.81667409\n",
      " 52.59206431 34.67358121 37.2126209  39.94432661]\n"
     ]
    }
   ],
   "source": [
    "print(distancias_2d[0])"
   ]
  },
  {
   "cell_type": "code",
   "execution_count": null,
   "metadata": {},
   "outputs": [],
   "source": []
  }
 ],
 "metadata": {
  "kernelspec": {
   "display_name": "venv",
   "language": "python",
   "name": "python3"
  },
  "language_info": {
   "codemirror_mode": {
    "name": "ipython",
    "version": 3
   },
   "file_extension": ".py",
   "mimetype": "text/x-python",
   "name": "python",
   "nbconvert_exporter": "python",
   "pygments_lexer": "ipython3",
   "version": "3.12.1"
  }
 },
 "nbformat": 4,
 "nbformat_minor": 2
}
