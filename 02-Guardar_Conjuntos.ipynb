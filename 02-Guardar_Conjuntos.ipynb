{
 "cells": [
  {
   "cell_type": "markdown",
   "metadata": {},
   "source": [
    "Aquí simplemente obtenemos el conjunto de entrenamiento y test y lo guardamos en archivo Excel."
   ]
  },
  {
   "cell_type": "code",
   "execution_count": 1,
   "metadata": {},
   "outputs": [],
   "source": [
    "import pandas as pd\n",
    "from sklearn.model_selection import train_test_split\n"
   ]
  },
  {
   "cell_type": "code",
   "execution_count": 5,
   "metadata": {},
   "outputs": [],
   "source": [
    "file_path_name = \"dataset/dataset-with-coord-cartesians-radio-original.xlsx\"\n",
    "\n",
    "df = pd.read_excel(file_path_name)"
   ]
  },
  {
   "cell_type": "code",
   "execution_count": null,
   "metadata": {},
   "outputs": [],
   "source": [
    "# Quitamos las columnas que no son de interes \n",
    "drop_columns = ['UTI', 'delay', 'terrestrial_range', 'slant_range']\n",
    "df = df.drop(columns = drop_columns)\n",
    "# Tomamos las columnas que consideramos como valores de entrada\n",
    "x_columns = ['latitude_pos_tx', 'longitude_pos_tx', 'elevation_pos_tx', 'fc [Mhz]', 'elevation', \n",
    "    'azimuth', 'year', 'mmdd', 'hour']\n",
    "x_df = df[x_columns]\n",
    "# quitamos las columnas de entrada. \n",
    "y_df = df.drop(columns=x_columns)\n"
   ]
  },
  {
   "cell_type": "code",
   "execution_count": 7,
   "metadata": {},
   "outputs": [],
   "source": [
    "x_train,x_test,y_train,y_test = train_test_split(x_df,y_df,test_size=0.2,random_state=42)\n"
   ]
  },
  {
   "cell_type": "code",
   "execution_count": 8,
   "metadata": {},
   "outputs": [],
   "source": [
    "x_train.to_excel(\"Train_Test/Dataset_Separado/x_train_new.xlsx\",index = False)\n",
    "x_test.to_excel(\"Train_Test/Dataset_Separado/x_test_new.xlsx\",index = False)\n",
    "y_train.to_excel(\"Train_Test/Dataset_Separado/y_train_new.xlsx\",index = False)\n",
    "y_test.to_excel(\"Train_Test/Dataset_Separado/y_test_new.xlsx\",index = False)\n"
   ]
  },
  {
   "cell_type": "code",
   "execution_count": null,
   "metadata": {},
   "outputs": [],
   "source": []
  }
 ],
 "metadata": {
  "kernelspec": {
   "display_name": "venv",
   "language": "python",
   "name": "python3"
  },
  "language_info": {
   "codemirror_mode": {
    "name": "ipython",
    "version": 3
   },
   "file_extension": ".py",
   "mimetype": "text/x-python",
   "name": "python",
   "nbconvert_exporter": "python",
   "pygments_lexer": "ipython3",
   "version": "3.12.1"
  }
 },
 "nbformat": 4,
 "nbformat_minor": 2
}
