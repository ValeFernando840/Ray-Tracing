{
 "cells": [
  {
   "cell_type": "markdown",
   "metadata": {},
   "source": [
    "Aquí simplemente obtenemos el conjunto de entrenamiento y test y lo guardamos en archivo Excel."
   ]
  },
  {
   "cell_type": "code",
   "execution_count": 3,
   "metadata": {},
   "outputs": [],
   "source": [
    "import pandas as pd\n",
    "from sklearn.model_selection import train_test_split\n"
   ]
  },
  {
   "cell_type": "code",
   "execution_count": 4,
   "metadata": {},
   "outputs": [],
   "source": [
    "file_path_name = \"dataset/dataset-with-coord-cartesians-radio-original.xlsx\"\n",
    "\n",
    "df = pd.read_excel(file_path_name)"
   ]
  },
  {
   "cell_type": "code",
   "execution_count": null,
   "metadata": {},
   "outputs": [
    {
     "name": "stdout",
     "output_type": "stream",
     "text": [
      "Empty DataFrame\n",
      "Columns: [latitude_pos_tx, longitude_pos_tx, elevation_pos_tx, fc [Mhz], elevation, azimuth, year, mmdd, UTI, hour, delay, terrestrial_range, slant_range, x_1, x_2, x_3, x_4, x_5, x_6, x_7, x_8, x_9, x_10, x_11, x_12, x_13, x_14, x_15, x_16, x_17, x_18, x_19, x_20, x_21, x_22, x_23, x_24, x_25, x_26, x_27, x_28, x_29, x_30, x_31, x_32, x_33, x_34, x_35, x_36, x_37, x_38, x_39, x_40, x_41, x_42, x_43, x_44, x_45, x_46, x_47, x_48, x_49, x_50, x_51, x_52, x_53, x_54, x_55, x_56, x_57, x_58, x_59, x_60, x_61, x_62, x_63, x_64, x_65, x_66, x_67, x_68, x_69, x_70, x_71, x_72, x_73, x_74, x_75, x_76, x_77, x_78, x_79, x_80, x_81, x_82, x_83, x_84, x_85, x_86, x_87, ...]\n",
      "Index: []\n",
      "\n",
      "[0 rows x 313 columns]\n"
     ]
    }
   ],
   "source": [
    "# observo si no tengo lineas de entradas repetidas.\n",
    "df_duplicadas = df[df.duplicated(subset=['latitude_pos_tx', 'longitude_pos_tx', 'elevation_pos_tx', 'fc [Mhz]', 'elevation', \n",
    "    'azimuth', 'year', 'mmdd', 'hour'])]\n",
    "print(df_duplicadas)"
   ]
  },
  {
   "cell_type": "code",
   "execution_count": null,
   "metadata": {},
   "outputs": [],
   "source": [
    "# Quitamos las columnas que no son de interes \n",
    "drop_columns = ['UTI', 'delay', 'terrestrial_range', 'slant_range']\n",
    "df = df.drop(columns = drop_columns)\n",
    "# Tomamos las columnas que consideramos como valores de entrada\n",
    "x_columns = ['latitude_pos_tx', 'longitude_pos_tx', 'elevation_pos_tx', 'fc [Mhz]', 'elevation', \n",
    "    'azimuth', 'year', 'mmdd', 'hour']\n",
    "x_df = df[x_columns]\n",
    "# quitamos las columnas de entrada. \n",
    "y_df = df.drop(columns=x_columns)\n"
   ]
  },
  {
   "cell_type": "code",
   "execution_count": 7,
   "metadata": {},
   "outputs": [],
   "source": [
    "x_train,x_test,y_train,y_test = train_test_split(x_df,y_df,test_size=0.2,random_state=42)\n"
   ]
  },
  {
   "cell_type": "code",
   "execution_count": null,
   "metadata": {},
   "outputs": [],
   "source": [
    "x_train.to_excel(\"Train_Test/Dataset_Separado/x_train_new.xlsx\",index = False)\n",
    "x_test.to_excel(\"Train_Test/Dataset_Separado/x_test_new.xlsx\",index = False)\n",
    "y_train.to_excel(\"Train_Test/Dataset_Separado/y_train_new.xlsx\",index = False)\n",
    "y_test.to_excel(\"Train_Test/Dataset_Separado/y_test_new.xlsx\",index = False)\n"
   ]
  },
  {
   "cell_type": "code",
   "execution_count": 2,
   "metadata": {},
   "outputs": [
    {
     "name": "stdout",
     "output_type": "stream",
     "text": [
      "0    False\n",
      "1    False\n",
      "2     True\n",
      "3     True\n",
      "4     True\n",
      "5     True\n",
      "6    False\n",
      "dtype: bool\n"
     ]
    }
   ],
   "source": [
    "import pandas as pd\n",
    "\n",
    "# Supongamos que este es tu DataFrame\n",
    "df = pd.DataFrame({\n",
    "    'A': [1, 2, 2,2,2,2, 3],\n",
    "    'B': ['x', 'y', 'y', 'y','y','y','z']\n",
    "})\n",
    "\n",
    "# Verifica si hay filas duplicadas\n",
    "duplicadas = df.duplicated()\n",
    "print(duplicadas)"
   ]
  },
  {
   "cell_type": "code",
   "execution_count": null,
   "metadata": {},
   "outputs": [],
   "source": []
  }
 ],
 "metadata": {
  "kernelspec": {
   "display_name": "venv",
   "language": "python",
   "name": "python3"
  },
  "language_info": {
   "codemirror_mode": {
    "name": "ipython",
    "version": 3
   },
   "file_extension": ".py",
   "mimetype": "text/x-python",
   "name": "python",
   "nbconvert_exporter": "python",
   "pygments_lexer": "ipython3",
   "version": "3.12.1"
  }
 },
 "nbformat": 4,
 "nbformat_minor": 2
}
