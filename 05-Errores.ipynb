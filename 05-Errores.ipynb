{
 "cells": [
  {
   "cell_type": "markdown",
   "id": "6ac603de",
   "metadata": {},
   "source": [
    "### Calculo de errores para los 3 casos\n",
    "## Errores \n",
    "1. Error de manera individual:\n",
    "  * Puedo calcular $d_{2D}$ usando **geopy.distance.geodesic**.\n",
    "  * Luego calcular la diferencia de alturas $\\Delta z$\n",
    "  * Finalmente usar un $d_{3D} = \\sqrt{(d_{2D})^2 + (\\Delta z)^2}$ y así obtendría mi distancia en 3D.\n",
    "2. ECM\n",
    "  * Para obtener el Error Cuadrático Medio puedo, sumar los valores y dividir por la cantidad de puntos (100 puntos)\n",
    "3. RECM(RMSE)\n",
    "  * Por último se podría tomar la raiz del ECM para expresar el error promedio en metros."
   ]
  },
  {
   "cell_type": "code",
   "execution_count": 1,
   "id": "7f16da47",
   "metadata": {},
   "outputs": [],
   "source": [
    "import matplotlib.pyplot as plt\n",
    "import numpy as np\n",
    "import pandas as pd\n",
    "\n",
    "from tensorflow.keras.models import load_model\n",
    "import pickle\n",
    "from Utils import utils_nn as utlnn\n",
    "from Utils import geo_conversions as gc"
   ]
  },
  {
   "cell_type": "code",
   "execution_count": 2,
   "id": "9b67f8f3",
   "metadata": {},
   "outputs": [],
   "source": [
    "# Carga conjunto de Test.\n",
    "x_test = pd.read_excel(\"./Train_Test/Dataset_Separado/x_test_new.xlsx\")\n",
    "y_test = pd.read_excel(\"./Train_Test/Dataset_Separado/y_test_new.xlsx\")\n",
    "\n",
    "# Quita de columnas no usadas en Train \n",
    "x_test = x_test.drop(columns=['latitude_pos_tx', 'longitude_pos_tx', 'elevation_pos_tx', 'year'])"
   ]
  },
  {
   "cell_type": "code",
   "execution_count": 32,
   "id": "46dc1c32",
   "metadata": {},
   "outputs": [],
   "source": [
    "# Cargamos los modelos.\n",
    "case = 1\t# Puede ser 1, 2 o 3, dependiendo del modelo que se quiera cargar.\n",
    "  \n",
    "if case == 1: \n",
    "\tmodel_x =  load_model('./modelos_entrenamiento/mod_x_R0/modelo1_x_con_scaler/modelo1_x.keras')\n",
    "\twith open('./modelos_entrenamiento/mod_x_R0/modelo1_x_con_scaler/scaler_x1.pkl', 'rb') as f:\n",
    "\t\tscaler_x = pickle.load(f)\n",
    "\n",
    "\tmodel_y = load_model('./modelos_entrenamiento/mod_y_R0/modelo1_y_con_scaler/modelo1_y.keras')\n",
    "\twith open('./modelos_entrenamiento/mod_y_R0/modelo1_y_con_scaler/scaler_y1.pkl', 'rb') as f:\n",
    "\t\tscaler_y = pickle.load(f)\n",
    "\t\t\n",
    "\tmodel_z = load_model('./modelos_entrenamiento/mod_z_R0/modelo1/modelo1.keras')\n",
    "\twith open('./modelos_entrenamiento/mod_z_R0/modelo1/scaler_z1.pkl','rb') as f:\n",
    "\t\tscaler_z = pickle.load(f)\n",
    "\n",
    "if case == 2: \n",
    "    model_z = load_model('./modelos_entrenamiento/mod_z_R0/modelo2/modelo2.keras')\n",
    "    with open('./modelos_entrenamiento/mod_z_R0/modelo2/scaler_z2.pkl','rb') as f:\n",
    "        scaler_z = pickle.load(f)\n",
    "\n",
    "    model_xy = load_model('./modelos_entrenamiento/mod_x_y_R0/modelo1_x_y_con_scaler/mod_x_y_R0.keras')\n",
    "    with open('./modelos_entrenamiento/mod_x_y_R0/modelo1_x_y_con_scaler/scaler_x.pkl', 'rb') as f:\n",
    "        scaler_x = pickle.load(f)\n",
    "    with open('./modelos_entrenamiento/mod_x_y_R0/modelo1_x_y_con_scaler/scaler_y.pkl', 'rb') as f:\n",
    "        scaler_y = pickle.load(f)\n",
    "\n",
    "if case == 3:\n",
    "      model_xyz = load_model('./modelos_entrenamiento/mod_x_y_z_R0/modelo2/modelo2_xyz.keras')\n",
    "      with open('./modelos_entrenamiento/mod_x_y_z_R0/modelo1/scaler_x.pkl', 'rb') as f:\n",
    "          scaler_x = pickle.load(f)\n",
    "      with open('./modelos_entrenamiento/mod_x_y_z_R0/modelo1/scaler_y.pkl', 'rb') as f:\n",
    "          scaler_y = pickle.load(f)\n",
    "      with open('./modelos_entrenamiento/mod_x_y_z_R0/modelo1/scaler_z.pkl', 'rb') as f:\n",
    "          scaler_z = pickle.load(f)"
   ]
  },
  {
   "cell_type": "code",
   "execution_count": 33,
   "id": "66ba85c7",
   "metadata": {},
   "outputs": [
    {
     "name": "stdout",
     "output_type": "stream",
     "text": [
      "\u001b[1m33/33\u001b[0m \u001b[32m━━━━━━━━━━━━━━━━━━━━\u001b[0m\u001b[37m\u001b[0m \u001b[1m0s\u001b[0m 5ms/step\n",
      "\u001b[1m33/33\u001b[0m \u001b[32m━━━━━━━━━━━━━━━━━━━━\u001b[0m\u001b[37m\u001b[0m \u001b[1m0s\u001b[0m 5ms/step\n",
      "\u001b[1m33/33\u001b[0m \u001b[32m━━━━━━━━━━━━━━━━━━━━\u001b[0m\u001b[37m\u001b[0m \u001b[1m0s\u001b[0m 6ms/step\n"
     ]
    }
   ],
   "source": [
    "# Predicción para el conjunto Test completo, descalado de MinMax_scaler y escalado a R0\n",
    "R0\t= 6.371E6\n",
    "if case == 1:\n",
    "\ty_pred_scaled_x = model_x.predict(x_test)\n",
    "\ty_pred_scaled_y = model_y.predict(x_test)\n",
    "\ty_pred_scaled_z = model_z.predict(x_test)\n",
    "if case == 2: \n",
    "\ty_pred_scaled_x, y_pred_scaled_y = model_xy.predict(x_test)\n",
    "\ty_pred_scaled_z = model_z.predict(x_test)\n",
    "if case == 3:\n",
    "\ty_pred_scaled_x, y_pred_scaled_y, y_pred_scaled_z = model_xyz.predict(x_test)\n",
    "\n",
    "# Desescalado de MinMaxScaler\n",
    "y_pred_x = scaler_x.inverse_transform(y_pred_scaled_x) * R0\n",
    "y_pred_y = scaler_y.inverse_transform(y_pred_scaled_y) * R0\n",
    "y_pred_z = scaler_z.inverse_transform(y_pred_scaled_z) * R0\n",
    "\n",
    "# Obtención de muestras verdaderasdaderas\n",
    "y_true_x = y_test.iloc[:,  0:100].to_numpy()\n",
    "y_true_y = y_test.iloc[:,100:200].to_numpy()\n",
    "y_true_z = y_test.iloc[:,200:300].to_numpy()"
   ]
  },
  {
   "cell_type": "code",
   "execution_count": 34,
   "id": "9b3e4ebc",
   "metadata": {},
   "outputs": [
    {
     "data": {
      "text/html": [
       "<div>\n",
       "<style scoped>\n",
       "    .dataframe tbody tr th:only-of-type {\n",
       "        vertical-align: middle;\n",
       "    }\n",
       "\n",
       "    .dataframe tbody tr th {\n",
       "        vertical-align: top;\n",
       "    }\n",
       "\n",
       "    .dataframe thead th {\n",
       "        text-align: right;\n",
       "    }\n",
       "</style>\n",
       "<table border=\"1\" class=\"dataframe\">\n",
       "  <thead>\n",
       "    <tr style=\"text-align: right;\">\n",
       "      <th></th>\n",
       "      <th>fc [Mhz]</th>\n",
       "      <th>elevation</th>\n",
       "      <th>azimuth</th>\n",
       "      <th>mmdd</th>\n",
       "      <th>hour</th>\n",
       "    </tr>\n",
       "  </thead>\n",
       "  <tbody>\n",
       "    <tr>\n",
       "      <th>10</th>\n",
       "      <td>21</td>\n",
       "      <td>34</td>\n",
       "      <td>91</td>\n",
       "      <td>1215</td>\n",
       "      <td>12</td>\n",
       "    </tr>\n",
       "    <tr>\n",
       "      <th>40</th>\n",
       "      <td>10</td>\n",
       "      <td>5</td>\n",
       "      <td>98</td>\n",
       "      <td>1010</td>\n",
       "      <td>20</td>\n",
       "    </tr>\n",
       "    <tr>\n",
       "      <th>100</th>\n",
       "      <td>10</td>\n",
       "      <td>5</td>\n",
       "      <td>98</td>\n",
       "      <td>928</td>\n",
       "      <td>0</td>\n",
       "    </tr>\n",
       "    <tr>\n",
       "      <th>500</th>\n",
       "      <td>25</td>\n",
       "      <td>24</td>\n",
       "      <td>88</td>\n",
       "      <td>1215</td>\n",
       "      <td>12</td>\n",
       "    </tr>\n",
       "    <tr>\n",
       "      <th>700</th>\n",
       "      <td>5</td>\n",
       "      <td>0</td>\n",
       "      <td>89</td>\n",
       "      <td>1215</td>\n",
       "      <td>12</td>\n",
       "    </tr>\n",
       "    <tr>\n",
       "      <th>880</th>\n",
       "      <td>10</td>\n",
       "      <td>5</td>\n",
       "      <td>98</td>\n",
       "      <td>501</td>\n",
       "      <td>0</td>\n",
       "    </tr>\n",
       "  </tbody>\n",
       "</table>\n",
       "</div>"
      ],
      "text/plain": [
       "     fc [Mhz]  elevation  azimuth  mmdd  hour\n",
       "10         21         34       91  1215    12\n",
       "40         10          5       98  1010    20\n",
       "100        10          5       98   928     0\n",
       "500        25         24       88  1215    12\n",
       "700         5          0       89  1215    12\n",
       "880        10          5       98   501     0"
      ]
     },
     "execution_count": 34,
     "metadata": {},
     "output_type": "execute_result"
    }
   ],
   "source": [
    "x_test.iloc[[10, 40, 100, 500, 700, 880]] # Son las muestras que se guardan."
   ]
  },
  {
   "cell_type": "code",
   "execution_count": 35,
   "id": "7b3c7f92",
   "metadata": {},
   "outputs": [],
   "source": [
    "lat_true, lon_true, alt_true = gc.transform_spherical_to_geographic(*gc.transform_cartesian_to_spherical(y_true_x, y_true_y, y_true_z))\n",
    "lat_pred, lon_pred, alt_pred = gc.transform_spherical_to_geographic(*gc.transform_cartesian_to_spherical(y_pred_x, y_pred_y, y_pred_z)) # Altura en metros"
   ]
  },
  {
   "cell_type": "code",
   "execution_count": null,
   "id": "e720e1f4",
   "metadata": {},
   "outputs": [],
   "source": [
    "# distances_2d = np.array(list(map(lambda args: np.array(utlnn.distances_by_geodesic(*args)), zip(lat_true, lon_true, lat_pred, lon_pred))))\n",
    "# distances_3d = np.array(list(map(lambda args: np.array(utlnn.distances_3D(*args)), zip(distances_2d,(alt_true-R0)/1E3,(alt_pred-R0)/1E3))))\n",
    "# error_2d = np.array(list(map(lambda args: np.array(utlnn.ecm_recm(args)),distances_2d)))\n",
    "# error_3d =  np.array(list(map(lambda args: np.array(utlnn.ecm_recm(args)),distances_3d)))\n",
    "# df_errors_2d = pd.DataFrame(error_2d, columns = ['ECM_2D_case3', 'RECM_2D_case3']).round(3)\n",
    "# df_errors_3d = pd.DataFrame(error_3d, columns=\t['ECM_3D_case3', 'RECM_3D_case3']).round(3)\n",
    "# df_errors = pd.concat([df_errors_2d, df_errors_3d], axis=1)\n",
    "# df_eval = pd.read_excel('Errores_Evaluacion_Caso_1_2_3.xlsx')\n",
    "# df_eval = pd.concat([df_eval,df_errors], axis=1)\n",
    "# df_eval.to_excel('Errores_Evaluacion_Caso_1_2_3.xlsx', index = False)"
   ]
  },
  {
   "cell_type": "markdown",
   "id": "1b09d52f",
   "metadata": {},
   "source": [
    "# Distancia Fréchet\n",
    "Métrica que mide la similitud entre dos curvas o trayectorias, teniendo en cuenta la forma y el orden de los puntos."
   ]
  },
  {
   "cell_type": "code",
   "execution_count": 46,
   "id": "22bbc77e",
   "metadata": {},
   "outputs": [],
   "source": [
    "idx = 880 # Indices [10, 40, 100, 500, 700, 880]\n",
    "\n",
    "lat_true[idx]\n",
    "lon_true[idx]\n",
    "alt_true[idx]\n",
    "lat_pred[idx]\n",
    "lon_pred[idx]\n",
    "alt_pred[idx]\n",
    "\n",
    "trayectoria_true = np.array([lat_true[idx], lon_true[idx], alt_true[idx]])\n",
    "trayectoria_pred = np.array([lat_pred[idx], lon_pred[idx], alt_pred[idx]])"
   ]
  },
  {
   "cell_type": "code",
   "execution_count": 47,
   "id": "fff8d0d1",
   "metadata": {},
   "outputs": [],
   "source": [
    "import numpy as np\n",
    "np.savetxt(f'./Trayectorias-text/modelo1_x_y_z_r0/trayectoria_true_idx_{idx}.txt', trayectoria_true, delimiter=',', header='latitud, longitud, altitud', comments='')\n",
    "np.savetxt(f'./Trayectorias-text/modelo1_x_y_z_r0/trayectoria_pred_idx_{idx}.txt', trayectoria_pred, delimiter=',', header='latitud, longitud, altitud', comments='')"
   ]
  },
  {
   "cell_type": "code",
   "execution_count": null,
   "id": "7be30ac8",
   "metadata": {},
   "outputs": [],
   "source": [
    "import numpy as np\n",
    "# Nota: lat[grados] lon[grados] alt[m] radio tierra considerado 6371E3 [m]\n",
    "tray_true = np.loadtxt('./Trayectorias-text/trayectoria_true_idx_40.txt', delimiter=',', skiprows=1)\n",
    "tray_pred= np.loadtxt('./Trayectorias-text/trayectoria_pred_idx_40.txt', delimiter=',', skiprows=1)"
   ]
  },
  {
   "cell_type": "code",
   "execution_count": null,
   "id": "6d7e6b6b",
   "metadata": {},
   "outputs": [],
   "source": [
    "# Hasta aquí solo se guardo una muestra de las N existentes."
   ]
  }
 ],
 "metadata": {
  "kernelspec": {
   "display_name": "venv",
   "language": "python",
   "name": "python3"
  },
  "language_info": {
   "codemirror_mode": {
    "name": "ipython",
    "version": 3
   },
   "file_extension": ".py",
   "mimetype": "text/x-python",
   "name": "python",
   "nbconvert_exporter": "python",
   "pygments_lexer": "ipython3",
   "version": "3.12.1"
  }
 },
 "nbformat": 4,
 "nbformat_minor": 5
}
