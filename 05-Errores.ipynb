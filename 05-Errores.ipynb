{
 "cells": [
  {
   "cell_type": "markdown",
   "id": "6ac603de",
   "metadata": {},
   "source": [
    "### Calculo de errores para los 3 casos\n",
    "## Errores \n",
    "1. Error de manera individual:\n",
    "  * Puedo calcular $d_{2D}$ usando **geopy.distance.geodesic**.\n",
    "  * Luego calcular la diferencia de alturas $\\Delta z$\n",
    "  * Finalmente usar un $d_{3D} = \\sqrt{(d_{2D})^2 + (\\Delta z)^2}$ y así obtendría mi distancia en 3D.\n",
    "2. ECM\n",
    "  * Para obtener el Error Cuadrático Medio puedo, sumar los valores y dividir por la cantidad de puntos (100 puntos)\n",
    "3. RECM(RMSE)\n",
    "  * Por último se podría tomar la raiz del ECM para expresar el error promedio en metros."
   ]
  },
  {
   "cell_type": "markdown",
   "id": "1379bc8c",
   "metadata": {},
   "source": []
  },
  {
   "cell_type": "code",
   "execution_count": 9,
   "id": "7f16da47",
   "metadata": {},
   "outputs": [],
   "source": [
    "\n",
    "import numpy as np\n",
    "import pandas as pd\n",
    "\n",
    "from tensorflow.keras.models import load_model\n",
    "import pickle\n",
    "from Utils import utils_nn as utlnn\n",
    "from Utils import geo_conversions as gc"
   ]
  },
  {
   "cell_type": "code",
   "execution_count": null,
   "id": "9b67f8f3",
   "metadata": {},
   "outputs": [],
   "source": [
    "# Carga conjunto de Test.\n",
    "x_test = pd.read_excel(\"./Train_Test/Dataset_Separado/x_test_new.xlsx\")\n",
    "y_test = pd.read_excel(\"./Train_Test/Dataset_Separado/y_test_new.xlsx\")\n",
    "\n",
    "# Quita de columnas no usadas en Train \n",
    "x_test = x_test.drop(columns=['latitude_pos_tx', 'longitude_pos_tx', 'elevation_pos_tx', 'year'])"
   ]
  },
  {
   "cell_type": "code",
   "execution_count": 6,
   "id": "46dc1c32",
   "metadata": {},
   "outputs": [],
   "source": [
    "# Cargamos los modelos.\n",
    "autoencoder_x =  load_model('./modelos_entrenamiento/mod_x_R0/modelo1_x_con_scaler/modelo1_x.keras')\n",
    "with open('./modelos_entrenamiento/mod_x_R0/modelo1_x_con_scaler/scaler_x1.pkl', 'rb') as f:\n",
    "  scaler_x = pickle.load(f)\n",
    "\n",
    "autoencoder_y = load_model('./modelos_entrenamiento/mod_y_R0/modelo1_y_con_scaler/modelo1_y.keras')\n",
    "with open('./modelos_entrenamiento/mod_y_R0/modelo1_y_con_scaler/scaler_y1.pkl', 'rb') as f:\n",
    "  scaler_y = pickle.load(f)\n",
    "  \n",
    "autoencoder_z = load_model('./modelos_entrenamiento/mod_z_R0/modelo1/modelo1.keras')\n",
    "with open('./modelos_entrenamiento/mod_z_R0/modelo1/scaler_z1.pkl','rb') as f:\n",
    "  scaler_z = pickle.load(f)"
   ]
  },
  {
   "cell_type": "code",
   "execution_count": 7,
   "id": "42ff0af6",
   "metadata": {},
   "outputs": [
    {
     "name": "stdout",
     "output_type": "stream",
     "text": [
      "\u001b[1m1/1\u001b[0m \u001b[32m━━━━━━━━━━━━━━━━━━━━\u001b[0m\u001b[37m\u001b[0m \u001b[1m0s\u001b[0m 433ms/step\n",
      "\u001b[1m1/1\u001b[0m \u001b[32m━━━━━━━━━━━━━━━━━━━━\u001b[0m\u001b[37m\u001b[0m \u001b[1m0s\u001b[0m 93ms/step\n",
      "\u001b[1m1/1\u001b[0m \u001b[32m━━━━━━━━━━━━━━━━━━━━\u001b[0m\u001b[37m\u001b[0m \u001b[1m0s\u001b[0m 82ms/step\n"
     ]
    }
   ],
   "source": [
    "idx\t= 0\n",
    "R0\t= 6.371E6\n",
    "y_true_x = (y_test.iloc[idx].to_numpy())[0\t:100]\n",
    "y_true_y = (y_test.iloc[idx].to_numpy())[100:200]\n",
    "y_true_z = (y_test.iloc[idx].to_numpy())[200:300]\n",
    "\n",
    "# Predicción\n",
    "y_pred_scaled_x = autoencoder_x.predict(np.expand_dims(x_test.iloc[idx], axis = 0))\n",
    "y_pred_scaled_y = autoencoder_y.predict(np.expand_dims(x_test.iloc[idx], axis = 0))\n",
    "y_pred_scaled_z = autoencoder_z.predict(np.expand_dims(x_test.iloc[idx], axis = 0))\n",
    "\n",
    "y_pred_x = scaler_x.inverse_transform(y_pred_scaled_x).flatten() * R0\n",
    "y_pred_y = scaler_y.inverse_transform(y_pred_scaled_y).flatten() * R0\n",
    "y_pred_z = scaler_z.inverse_transform(y_pred_scaled_z).flatten() * R0"
   ]
  },
  {
   "cell_type": "code",
   "execution_count": 8,
   "id": "7135452c",
   "metadata": {},
   "outputs": [],
   "source": [
    "\n",
    "phi_true, theta_true, rho_true = gc.transform_cartesian_to_spherical(y_true_x, y_true_y, y_true_z)\n",
    "lat_true, lon_true, alt_true = gc.transform_spherical_to_geographic(phi_true, theta_true, rho_true)\n",
    "\n",
    "phi_pred, theta_pred, rho_pred = gc.transform_cartesian_to_spherical(y_pred_x, y_pred_y, y_pred_z)\n",
    "lat_pred, lon_pred, alt_pred = gc.transform_spherical_to_geographic(phi_pred, theta_pred, rho_pred)"
   ]
  },
  {
   "cell_type": "code",
   "execution_count": 10,
   "id": "b8718832",
   "metadata": {},
   "outputs": [],
   "source": [
    "Distance = utlnn.distances_by_geodesic(lat_true, lon_true, lat_pred, lon_pred)"
   ]
  },
  {
   "cell_type": "code",
   "execution_count": 12,
   "id": "926563a5",
   "metadata": {},
   "outputs": [],
   "source": [
    "promedio = np.mean(Distance)"
   ]
  },
  {
   "cell_type": "code",
   "execution_count": 15,
   "id": "fd7cc26b",
   "metadata": {},
   "outputs": [
    {
     "data": {
      "text/plain": [
       "np.float64(5.477232606764777)"
      ]
     },
     "execution_count": 15,
     "metadata": {},
     "output_type": "execute_result"
    }
   ],
   "source": [
    "promedio"
   ]
  },
  {
   "cell_type": "code",
   "execution_count": null,
   "id": "66ba85c7",
   "metadata": {},
   "outputs": [],
   "source": []
  }
 ],
 "metadata": {
  "kernelspec": {
   "display_name": "venv",
   "language": "python",
   "name": "python3"
  },
  "language_info": {
   "codemirror_mode": {
    "name": "ipython",
    "version": 3
   },
   "file_extension": ".py",
   "mimetype": "text/x-python",
   "name": "python",
   "nbconvert_exporter": "python",
   "pygments_lexer": "ipython3",
   "version": "3.12.1"
  }
 },
 "nbformat": 4,
 "nbformat_minor": 5
}
