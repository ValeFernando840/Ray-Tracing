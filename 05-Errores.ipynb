{
 "cells": [
  {
   "cell_type": "markdown",
   "id": "6ac603de",
   "metadata": {},
   "source": [
    "### Calculo de errores para los 3 casos\n",
    "## Errores \n",
    "1. Error de manera individual:\n",
    "  * Puedo calcular $d_{2D}$ usando **geopy.distance.geodesic**.\n",
    "  * Luego calcular la diferencia de alturas $\\Delta z$\n",
    "  * Finalmente usar un $d_{3D} = \\sqrt{(d_{2D})^2 + (\\Delta z)^2}$ y así obtendría mi distancia en 3D.\n",
    "2. ECM\n",
    "  * Para obtener el Error Cuadrático Medio puedo, sumar los valores y dividir por la cantidad de puntos (100 puntos)\n",
    "3. RECM(RMSE)\n",
    "  * Por último se podría tomar la raiz del ECM para expresar el error promedio en metros."
   ]
  },
  {
   "cell_type": "markdown",
   "id": "1379bc8c",
   "metadata": {},
   "source": []
  },
  {
   "cell_type": "code",
   "execution_count": 1,
   "id": "7f16da47",
   "metadata": {},
   "outputs": [],
   "source": [
    "import matplotlib.pyplot as plt\n",
    "import numpy as np\n",
    "import pandas as pd\n",
    "\n",
    "from tensorflow.keras.models import load_model\n",
    "import pickle\n",
    "from Utils import utils_nn as utlnn\n",
    "from Utils import geo_conversions as gc"
   ]
  },
  {
   "cell_type": "code",
   "execution_count": 2,
   "id": "9b67f8f3",
   "metadata": {},
   "outputs": [],
   "source": [
    "# Carga conjunto de Test.\n",
    "x_test = pd.read_excel(\"./Train_Test/Dataset_Separado/x_test_new.xlsx\")\n",
    "y_test = pd.read_excel(\"./Train_Test/Dataset_Separado/y_test_new.xlsx\")\n",
    "\n",
    "# Quita de columnas no usadas en Train \n",
    "x_test = x_test.drop(columns=['latitude_pos_tx', 'longitude_pos_tx', 'elevation_pos_tx', 'year'])"
   ]
  },
  {
   "cell_type": "code",
   "execution_count": 3,
   "id": "46dc1c32",
   "metadata": {},
   "outputs": [],
   "source": [
    "# Cargamos los modelos.\n",
    "case = 3\t# Puede ser 1, 2 o 3, dependiendo del modelo que se quiera cargar.\n",
    "  \n",
    "if case == 1: \n",
    "\tmodel_x =  load_model('./modelos_entrenamiento/mod_x_R0/modelo1_x_con_scaler/modelo1_x.keras')\n",
    "\twith open('./modelos_entrenamiento/mod_x_R0/modelo1_x_con_scaler/scaler_x1.pkl', 'rb') as f:\n",
    "\t\tscaler_x = pickle.load(f)\n",
    "\n",
    "\tmodel_y = load_model('./modelos_entrenamiento/mod_y_R0/modelo1_y_con_scaler/modelo1_y.keras')\n",
    "\twith open('./modelos_entrenamiento/mod_y_R0/modelo1_y_con_scaler/scaler_y1.pkl', 'rb') as f:\n",
    "\t\tscaler_y = pickle.load(f)\n",
    "\t\t\n",
    "\tmodel_z = load_model('./modelos_entrenamiento/mod_z_R0/modelo1/modelo1.keras')\n",
    "\twith open('./modelos_entrenamiento/mod_z_R0/modelo1/scaler_z1.pkl','rb') as f:\n",
    "\t\tscaler_z = pickle.load(f)\n",
    "\n",
    "if case == 2: \n",
    "    model_z = load_model('./modelos_entrenamiento/mod_z_R0/modelo1/modelo1.keras')\n",
    "    with open('./modelos_entrenamiento/mod_z_R0/modelo1/scaler_z1.pkl','rb') as f:\n",
    "        scaler_z = pickle.load(f)\n",
    "\n",
    "    model_xy = load_model('./modelos_entrenamiento/mod_x_y_R0/modelo1_x_y_con_scaler/mod_x_y_R0.keras')\n",
    "    with open('./modelos_entrenamiento/mod_x_y_R0/modelo1_x_y_con_scaler/scaler_x.pkl', 'rb') as f:\n",
    "        scaler_x = pickle.load(f)\n",
    "    with open('./modelos_entrenamiento/mod_x_y_R0/modelo1_x_y_con_scaler/scaler_y.pkl', 'rb') as f:\n",
    "        scaler_y = pickle.load(f)\n",
    "\n",
    "if case == 3:\n",
    "      model_xyz = load_model('./modelos_entrenamiento/mod_x_y_z_R0/modelo1/modelo1_xyz.keras')\n",
    "      with open('./modelos_entrenamiento/mod_x_y_z_R0/modelo1/scaler_x.pkl', 'rb') as f:\n",
    "          scaler_x = pickle.load(f)\n",
    "      with open('./modelos_entrenamiento/mod_x_y_z_R0/modelo1/scaler_y.pkl', 'rb') as f:\n",
    "          scaler_y = pickle.load(f)\n",
    "      with open('./modelos_entrenamiento/mod_x_y_z_R0/modelo1/scaler_z.pkl', 'rb') as f:\n",
    "          scaler_z = pickle.load(f)"
   ]
  },
  {
   "cell_type": "code",
   "execution_count": null,
   "id": "66ba85c7",
   "metadata": {},
   "outputs": [
    {
     "name": "stdout",
     "output_type": "stream",
     "text": [
      "\u001b[1m33/33\u001b[0m \u001b[32m━━━━━━━━━━━━━━━━━━━━\u001b[0m\u001b[37m\u001b[0m \u001b[1m1s\u001b[0m 4ms/step\n",
      "\u001b[1m33/33\u001b[0m \u001b[32m━━━━━━━━━━━━━━━━━━━━\u001b[0m\u001b[37m\u001b[0m \u001b[1m0s\u001b[0m 3ms/step\n",
      "\u001b[1m33/33\u001b[0m \u001b[32m━━━━━━━━━━━━━━━━━━━━\u001b[0m\u001b[37m\u001b[0m \u001b[1m0s\u001b[0m 4ms/step\n"
     ]
    }
   ],
   "source": [
    "# Predicción para el conjunto Test completo, descalado de MinMax_scaler y escalado a R0\n",
    "R0\t= 6.371E6\n",
    "y_pred_x = scaler_x.inverse_transform(model_x.predict(x_test)) * R0\n",
    "y_pred_y = scaler_y.inverse_transform(model_y.predict(x_test)) * R0\n",
    "y_pred_z = scaler_z.inverse_transform(model_z.predict(x_test)) * R0\n",
    "\n",
    "# Obtencion de muestras verdaderas\n",
    "y_true_x = y_test.iloc[:,  0:100].to_numpy()\n",
    "y_true_y = y_test.iloc[:,100:200].to_numpy()\n",
    "y_true_z = y_test.iloc[:,200:300].to_numpy()\n"
   ]
  },
  {
   "cell_type": "code",
   "execution_count": 5,
   "id": "7b3c7f92",
   "metadata": {},
   "outputs": [],
   "source": [
    "phi_true, theta_true, rho_true\t= gc.transform_cartesian_to_spherical(y_true_x, y_true_y, y_true_z)\n",
    "lat_true, lon_true, alt_true \t\t= gc.transform_spherical_to_geographic(phi_true, theta_true, rho_true)\n",
    "\n",
    "phi_pred, theta_pred, rho_pred \t= gc.transform_cartesian_to_spherical(y_pred_x, y_pred_y, y_pred_z)\n",
    "lat_pred, lon_pred, alt_pred \t\t= gc.transform_spherical_to_geographic(phi_pred, theta_pred, rho_pred) # Altura en metros"
   ]
  },
  {
   "cell_type": "code",
   "execution_count": 18,
   "id": "fce903e1",
   "metadata": {},
   "outputs": [
    {
     "data": {
      "text/plain": [
       "array([1.00000000e+00, 7.00056818e+01, 1.18511364e+02, 1.88017045e+02,\n",
       "       1.77522727e+02, 2.43528409e+02, 3.86090909e+02, 5.37210227e+02,\n",
       "       6.30329545e+02, 6.81948864e+02, 7.81068182e+02, 8.56187500e+02,\n",
       "       1.02250923e+03, 1.16183097e+03, 1.25665270e+03, 1.27997443e+03,\n",
       "       1.33229616e+03, 1.43789666e+03, 1.47627592e+03, 1.43765518e+03,\n",
       "       1.82403445e+03, 1.90891371e+03, 1.87329297e+03, 2.19689311e+03,\n",
       "       2.10849325e+03, 2.10909339e+03, 2.32769354e+03, 2.22429368e+03,\n",
       "       2.26143786e+03, 2.35662607e+03, 2.67731428e+03, 2.65000249e+03,\n",
       "       2.86269070e+03, 2.65187891e+03, 2.94819638e+03, 2.83651385e+03,\n",
       "       3.13383132e+03, 2.90514879e+03, 3.08196626e+03, 2.75652876e+03,\n",
       "       3.11983629e+03, 2.97064382e+03, 3.28045135e+03, 3.32675888e+03,\n",
       "       3.64756641e+03, 3.75330788e+03, 3.90254936e+03, 4.19429084e+03,\n",
       "       4.23453232e+03, 3.56277379e+03, 3.95261399e+03, 4.01855291e+03,\n",
       "       4.25699183e+03, 4.67043075e+03, 4.07586967e+03, 4.37630859e+03,\n",
       "       4.03763601e+03, 5.08046342e+03, 4.48629084e+03, 4.78361825e+03,\n",
       "       5.60644567e+03, 4.90283665e+03, 5.93079119e+03, 6.15724574e+03,\n",
       "       5.94120028e+03, 5.52915483e+03, 5.36460938e+03, 5.58713139e+03,\n",
       "       6.13265341e+03, 5.89517543e+03, 5.88519744e+03, 5.88471946e+03,\n",
       "       5.77372692e+03, 6.69321982e+03, 6.77021271e+03, 6.77070561e+03,\n",
       "       7.40519851e+03, 6.76419141e+03, 5.82726456e+03, 7.46933771e+03,\n",
       "       7.53241087e+03, 6.40298402e+03, 7.76905717e+03, 7.23618999e+03,\n",
       "       8.42788246e+03, 7.33257493e+03, 7.86776740e+03, 8.01845987e+03,\n",
       "       6.50315234e+03, 6.93764808e+03, 7.31764382e+03, 7.05063956e+03,\n",
       "       9.00663530e+03, 7.20863104e+03, 9.03771129e+03, 9.91287607e+03,\n",
       "       8.53504084e+03, 8.27320561e+03, 1.02248704e+04, 8.15303516e+03])"
      ]
     },
     "execution_count": 18,
     "metadata": {},
     "output_type": "execute_result"
    }
   ],
   "source": [
    "alt_pred[10]-alt_true[10]"
   ]
  },
  {
   "cell_type": "code",
   "execution_count": 6,
   "id": "60a4a843",
   "metadata": {},
   "outputs": [],
   "source": [
    "distances_2d = np.array(list(map(lambda args: np.array(utlnn.distances_by_geodesic(*args)), zip(lat_true, lon_true, lat_pred, lon_pred))))\n",
    "distances_3d = np.array(list(map(lambda args: np.array(utlnn.distances_3D(*args)), zip(distances_2d,alt_true/1E3,alt_pred/1E3))))# ERROR DISTANCIA 2D ESTA EN KM MIENTRAS QUE LAS ALTURAS INGRESAN EN METROS "
   ]
  },
  {
   "cell_type": "code",
   "execution_count": 13,
   "id": "df5b69a0",
   "metadata": {},
   "outputs": [],
   "source": [
    "error_2d = np.array(list(map(lambda args: np.array(utlnn.ecm_recm(args)),distances_2d)))\n",
    "error_3d =  np.array(list(map(lambda args: np.array(utlnn.ecm_recm(args)),distances_3d)))"
   ]
  },
  {
   "cell_type": "code",
   "execution_count": 22,
   "id": "c20182e2",
   "metadata": {},
   "outputs": [
    {
     "name": "stdout",
     "output_type": "stream",
     "text": [
      "Distancia: 30.335720540219164\n",
      "Error 2D: [1444.71587811   38.00941828]\n",
      "Latitud True Inicial: -42.280000450453734, Longitud True Inicial: -63.40000836722327\n",
      "Latitud Predicha Inicial: -42.279998779296875, Longitud Predicha Inicial: -63.40000534057617\n"
     ]
    }
   ],
   "source": [
    "ubi = 50\n",
    "print(f'Distancia: {distances_2d[ubi].mean()}')\n",
    "print(f'Error 2D: {error_2d[ubi]}')\n",
    "\n",
    "distancia_punto = utlnn.distances_by_geodesic(lat_true[ubi], lon_true[ubi], lat_pred[ubi], lon_pred[ubi])\n",
    "print(f'Latitud True Inicial: {lat_true[0][0]}, Longitud True Inicial: {lon_true[0][0]}')\n",
    "print(f'Latitud Predicha Inicial: {lat_pred[0][0]}, Longitud Predicha Inicial: {lon_pred[0][0]}')"
   ]
  },
  {
   "cell_type": "code",
   "execution_count": 12,
   "id": "f2ed3520",
   "metadata": {},
   "outputs": [],
   "source": [
    "true_points = np.stack((y_true_x, y_true_y, y_true_z) , axis = 1)\n",
    "pred_points = np.stack((y_pred_x, y_pred_y, y_pred_z) , axis = 1)\n",
    "\n",
    "errors = np.linalg.norm(true_points - pred_points, axis = 1)\n"
   ]
  },
  {
   "cell_type": "code",
   "execution_count": 6,
   "id": "2f4cd9f6",
   "metadata": {},
   "outputs": [],
   "source": [
    "# Vamos a ver estas Gráficas en Google Earth\n",
    "from simplekml import Kml\n",
    "indice = 1\n",
    "R0 = 6.371E6\n",
    "latitudes_graf \t= lat_true[indice]\n",
    "longitudes_graf = lon_true[indice]\n",
    "altura_graf \t= alt_true[indice] -R0  # Convertir a km\n",
    "\n",
    "longitudes_graf_pred = lon_pred[indice]\n",
    "latitudes_graf_pred = lat_pred[indice]\n",
    "altura_graf_pred = alt_pred[indice]  - R0# Convertir a km\n",
    "\n",
    "kml = Kml()\n",
    "\n",
    "linestring = kml.newlinestring(name = 'Trayectoria Verdadera')\n",
    "linestring.coords = list(zip(longitudes_graf, latitudes_graf, altura_graf\t))\n",
    "linestring.altitudmode = 'absolute'\n",
    "linestring.extrude = 0\n",
    "linestring.style.linestyle.color = 'ff0000ff'  # Rojo\n",
    "linestring.style.linestyle.width = 5\n",
    "\n",
    "linestring_pred = kml.newlinestring(name = 'Trayectoria Predicha')\n",
    "linestring_pred.coords = list(zip(longitudes_graf_pred, latitudes_graf_pred, altura_graf_pred\t))\n",
    "linestring_pred.altitudmode = 'absolute'\n",
    "linestring_pred.extrude = 0\n",
    "linestring_pred.style.linestyle.color = 'ff00ff00'  # Verde\n",
    "linestring_pred.style.linestyle.width = 5\n",
    "\n",
    "\n",
    "kml.save('Trayectoria_Real_Pred.kml')"
   ]
  },
  {
   "cell_type": "code",
   "execution_count": 8,
   "id": "8ee2fefa",
   "metadata": {},
   "outputs": [
    {
     "name": "stdout",
     "output_type": "stream",
     "text": [
      "[2.000000e+00 3.475000e+02 5.125000e+02 8.910000e+02 1.264500e+03\n",
      " 4.140000e+03 7.477000e+03 1.094750e+04 1.378000e+04 1.631550e+04\n",
      " 2.053800e+04 2.483400e+04 2.784000e+04 3.188450e+04 3.565850e+04\n",
      " 4.082550e+04 4.429850e+04 4.986000e+04 5.392450e+04 5.896750e+04\n",
      " 6.591050e+04 6.925200e+04 7.712000e+04 8.000350e+04 8.778200e+04\n",
      " 9.372400e+04 9.880600e+04 1.033300e+05 1.105855e+05 1.176510e+05\n",
      " 1.244225e+05 1.317740e+05 1.379365e+05 1.437910e+05 1.500445e+05\n",
      " 1.596240e+05 1.663315e+05 1.710835e+05 1.799345e+05 1.883960e+05\n",
      " 1.925745e+05 2.028980e+05 2.063365e+05 2.176425e+05 2.208580e+05\n",
      " 2.257330e+05 2.317830e+05 2.358720e+05 2.351310e+05 2.376945e+05\n",
      " 2.353950e+05 2.370205e+05 2.362220e+05 2.301290e+05 2.257995e+05\n",
      " 2.146465e+05 2.085895e+05 1.996870e+05 1.960225e+05 1.838400e+05\n",
      " 1.799605e+05 1.706370e+05 1.613180e+05 1.601965e+05 1.479670e+05\n",
      " 1.351615e+05 1.309055e+05 1.239925e+05 1.202630e+05 1.064085e+05\n",
      " 9.616550e+04 9.715200e+04 8.985850e+04 8.552500e+04 7.652800e+04\n",
      " 7.257350e+04 6.526700e+04 6.399400e+04 5.869200e+04 5.513650e+04\n",
      " 5.578600e+04 4.160150e+04 4.331650e+04 4.127900e+04 3.663850e+04\n",
      " 4.191100e+04 3.939450e+04 3.341950e+04 3.069800e+04 2.589800e+04\n",
      " 2.154300e+04 1.907950e+04 1.675350e+04 1.695800e+04 1.927600e+04\n",
      " 1.774700e+04 1.820050e+04 1.527600e+04 1.051600e+04 1.463500e+04]\n"
     ]
    }
   ],
   "source": [
    "indice = 100\n",
    "R0 = 6.371E6\n",
    "latitudes_graf \t= lat_true[indice]\n",
    "longitudes_graf = lon_true[indice]\n",
    "altura_graf \t= alt_true[indice] -R0  # Convertir a km\n",
    "\n",
    "longitudes_graf_pred = lon_pred[indice]\n",
    "latitudes_graf_pred = lat_pred[indice]\n",
    "altura_graf_pred = alt_pred[indice] - R0  # Convertir a km\n",
    "\n",
    "R0 = 6.371E6\n",
    "print(altura_graf_pred)"
   ]
  },
  {
   "cell_type": "code",
   "execution_count": 32,
   "id": "d0fe0a8f",
   "metadata": {},
   "outputs": [
    {
     "data": {
      "text/plain": [
       "np.float64(28699.057669202004)"
      ]
     },
     "execution_count": 32,
     "metadata": {},
     "output_type": "execute_result"
    }
   ],
   "source": [
    "errors[2].mean()"
   ]
  },
  {
   "cell_type": "code",
   "execution_count": 50,
   "id": "6f5fec82",
   "metadata": {},
   "outputs": [
    {
     "name": "stdout",
     "output_type": "stream",
     "text": [
      "x_true:-4206666.829014664, y_true:3826342.731829337, z_true:3008392.031732509\n",
      "x_pred:-4206549.5, y_pred:3824224.0, z_pred:3011937.75\n"
     ]
    }
   ],
   "source": [
    "xTrue=true_points[0][0]\n",
    "yTrue=true_points[0][1]\n",
    "zTrue=true_points[0][2]\n",
    "\n",
    "xPred=pred_points[0][0]\n",
    "yPred=pred_points[0][1]\n",
    "zPred=pred_points[0][2]\n",
    "indice = 20\n",
    "print(f'x_true:{xTrue[indice]}, y_true:{yTrue[indice]}, z_true:{zTrue[indice]}')\n",
    "print(f'x_pred:{xPred[indice]}, y_pred:{yPred[indice]}, z_pred:{zPred[indice]}')\t"
   ]
  },
  {
   "cell_type": "code",
   "execution_count": 45,
   "id": "421f585a",
   "metadata": {},
   "outputs": [],
   "source": [
    "d =np.sqrt((xTrue-xPred)**2 + (yTrue-yPred)**2)"
   ]
  },
  {
   "cell_type": "code",
   "execution_count": 46,
   "id": "dba66b97",
   "metadata": {},
   "outputs": [
    {
     "data": {
      "text/plain": [
       "np.float64(2562.4081003608862)"
      ]
     },
     "execution_count": 46,
     "metadata": {},
     "output_type": "execute_result"
    }
   ],
   "source": [
    "d.mean()"
   ]
  },
  {
   "cell_type": "code",
   "execution_count": 43,
   "id": "ecf78cb9",
   "metadata": {},
   "outputs": [
    {
     "data": {
      "text/plain": [
       "np.float64(18.790703063211566)"
      ]
     },
     "execution_count": 43,
     "metadata": {},
     "output_type": "execute_result"
    }
   ],
   "source": [
    "distances_2d[2].mean()"
   ]
  },
  {
   "cell_type": "code",
   "execution_count": null,
   "id": "562c4b1c",
   "metadata": {},
   "outputs": [],
   "source": []
  }
 ],
 "metadata": {
  "kernelspec": {
   "display_name": "venv",
   "language": "python",
   "name": "python3"
  },
  "language_info": {
   "codemirror_mode": {
    "name": "ipython",
    "version": 3
   },
   "file_extension": ".py",
   "mimetype": "text/x-python",
   "name": "python",
   "nbconvert_exporter": "python",
   "pygments_lexer": "ipython3",
   "version": "3.12.1"
  }
 },
 "nbformat": 4,
 "nbformat_minor": 5
}
